{
 "cells": [
  {
   "cell_type": "markdown",
   "metadata": {},
   "source": [
    "# Image Classification with PyTorch"
   ]
  },
  {
   "cell_type": "markdown",
   "metadata": {},
   "source": [
    "## Data loading\n"
   ]
  },
  {
   "cell_type": "code",
   "execution_count": 1,
   "metadata": {},
   "outputs": [
    {
     "data": {
      "text/plain": [
       "<torch._C.Generator at 0x7f1f8db0f230>"
      ]
     },
     "execution_count": 1,
     "metadata": {},
     "output_type": "execute_result"
    }
   ],
   "source": [
    "import numpy as np\n",
    "import matplotlib.pyplot as plt\n",
    "\n",
    "import torch\n",
    "import torch.nn as nn\n",
    "import torch.nn.functional as F\n",
    "import torch.optim as optim\n",
    "from torch.utils.data import DataLoader\n",
    "import torchvision\n",
    "from torchvision import datasets, transforms\n",
    "\n",
    "torch.manual_seed(1)"
   ]
  },
  {
   "cell_type": "code",
   "execution_count": 2,
   "metadata": {},
   "outputs": [],
   "source": [
    "# torchvision contains convinience functions for popular datasets\n",
    "ds_train = datasets.MNIST('data', train=True, download=True)"
   ]
  },
  {
   "cell_type": "markdown",
   "metadata": {},
   "source": [
    "Each sample is a 28x28 image"
   ]
  },
  {
   "cell_type": "code",
   "execution_count": 3,
   "metadata": {},
   "outputs": [
    {
     "name": "stdout",
     "output_type": "stream",
     "text": [
      "(<PIL.Image.Image image mode=L size=28x28 at 0x7F1FC401F250>, 5)\n"
     ]
    },
    {
     "data": {
      "image/png": "[encoded data removed]",
      "text/plain": [
       "<PIL.Image.Image image mode=L size=120x120 at 0x7F1FC402F5E0>"
      ]
     },
     "execution_count": 3,
     "metadata": {},
     "output_type": "execute_result"
    }
   ],
   "source": [
    "# if we index this dataset, we get a single data point: a PIL image and an Integer\n",
    "print(ds_train[0])\n",
    "ds_train[0][0].resize((120,120))"
   ]
  },
  {
   "cell_type": "markdown",
   "metadata": {},
   "source": [
    "Let's transform the data to something that our Pytorch models will understand\n",
    "for this purpose, we can supply a transform function to the datase"
   ]
  },
  {
   "cell_type": "code",
   "execution_count": 4,
   "metadata": {},
   "outputs": [],
   "source": [
    "transform = transforms.Compose([\n",
    "    transforms.ToTensor(),\n",
    "])\n",
    "ds_train = datasets.MNIST('data', train=True, download=True, transform=transform)"
   ]
  },
  {
   "cell_type": "markdown",
   "metadata": {},
   "source": [
    "The image is now a `torch.Tensor`"
   ]
  },
  {
   "cell_type": "code",
   "execution_count": 5,
   "metadata": {},
   "outputs": [
    {
     "data": {
      "text/plain": [
       "torch.Tensor"
      ]
     },
     "execution_count": 5,
     "metadata": {},
     "output_type": "execute_result"
    }
   ],
   "source": [
    "type(ds_train[0][0])"
   ]
  },
  {
   "cell_type": "markdown",
   "metadata": {},
   "source": [
    "The normalization is something you learned about in the lecture. Normalizing with $\\mu=0, \\sigma=1$ corresponds to no normalization. Let's compute the proper normalization constants!"
   ]
  },
  {
   "cell_type": "code",
   "execution_count": 6,
   "metadata": {},
   "outputs": [],
   "source": [
    "# lets get only the images \n",
    "ims_train = ds_train.data\n",
    "ims_train = ims_train.float() / 255."
   ]
  },
  {
   "cell_type": "code",
   "execution_count": 7,
   "metadata": {},
   "outputs": [],
   "source": [
    "#########################################################################\n",
    "# TODO: calculate the mean and std of MNIST images\n",
    "# hint: to look for operations on pytorch tensor, refer to the official PyTorch docs \n",
    "# https://pytorch.org/docs/stable/\n",
    "#########################################################################\n",
    "mu = torch.mean(ims_train, dim=(0, 1, 2))\n",
    "std = torch.mean(ims_train, dim=(0, 1, 2))"
   ]
  },
  {
   "cell_type": "markdown",
   "metadata": {},
   "source": [
    "We normalize the data as below."
   ]
  },
  {
   "cell_type": "code",
   "execution_count": 8,
   "metadata": {},
   "outputs": [],
   "source": [
    "transform = transforms.Compose([\n",
    "    transforms.ToTensor(),\n",
    "    transforms.Normalize(mu, std)\n",
    "])\n",
    "ds_train = datasets.MNIST('data', train=True, download=True, transform=transform)\n",
    "ds_test = datasets.MNIST('data', train=False, download=True, transform=transform)"
   ]
  },
  {
   "cell_type": "code",
   "execution_count": 9,
   "metadata": {},
   "outputs": [
    {
     "data": {
      "text/plain": [
       "(tensor(-1.), tensor(6.6534))"
      ]
     },
     "execution_count": 9,
     "metadata": {},
     "output_type": "execute_result"
    }
   ],
   "source": [
    "ds_train[0][0].min(), ds_train[0][0].max()"
   ]
  },
  {
   "cell_type": "markdown",
   "metadata": {},
   "source": [
    "Next, we want to receive mini-batches, not only single data points.\n",
    "We use PyTorch's DataLoader class. Build a dataloader with a batch size of 64 and 4 workers (number of subprocess that peform the dataloading). Important: you need to shuffle the training data, not the test data.\n",
    "\n",
    "**NOTE**: if you encounter some unexpected errors in data loading, try setting `NUM_WORKERS = 0`"
   ]
  },
  {
   "cell_type": "code",
   "execution_count": 10,
   "metadata": {},
   "outputs": [],
   "source": [
    "BATCH_SIZE = 64\n",
    "NUM_WORKERS = 4\n",
    "#########################################################################\n",
    "# TODO: Build a dataloader for both train and test data.\n",
    "#########################################################################\n",
    "dl_train = DataLoader(\n",
    "    ds_train,\n",
    "    batch_size=BATCH_SIZE,\n",
    "    num_workers=NUM_WORKERS,\n",
    "    shuffle=True\n",
    ")\n",
    "dl_test = DataLoader(\n",
    "    ds_test,\n",
    "    batch_size=BATCH_SIZE,\n",
    "    num_workers=NUM_WORKERS,\n",
    "    shuffle=False\n",
    ")"
   ]
  },
  {
   "cell_type": "markdown",
   "metadata": {},
   "source": [
    "## MLP in Pytorch\n",
    "\n",
    "Ok, the dataloading works. Let's build our model, PyTorch makes this very easy. We will build replicate the model from our last exercises. However, now, we add another variable called `nLayer` that indicates how many linear layers that in your network. Please adapt your code from last exercise accordingly to allow different number of layers."
   ]
  },
  {
   "cell_type": "code",
   "execution_count": 11,
   "metadata": {},
   "outputs": [],
   "source": [
    "# These are the parameters to be used\n",
    "nInput = 784\n",
    "nOutput = 10\n",
    "nLayer = 2\n",
    "nHidden = 16\n",
    "act_fn = nn.ReLU()"
   ]
  },
  {
   "cell_type": "code",
   "execution_count": 19,
   "metadata": {},
   "outputs": [],
   "source": [
    "#########################################################################\n",
    "# TODO: Implement the __init__ of the MLP class. \n",
    "# insert the activation after every linear layer. Important: the number of \n",
    "# hidden layers should be variable!\n",
    "#########################################################################\n",
    "\n",
    "class MLP(nn.Module):\n",
    "    def __init__(self, nInput, nOutput, nLayer, nHidden, act_fn):\n",
    "        super(MLP, self).__init__()\n",
    "        layers = [] \n",
    "        \n",
    "        ##### implement this part #####\n",
    "        layers.append(nn.Linear(nInput, nHidden))\n",
    "        layers.append(act_fn)\n",
    "        for i in range(1, nLayer):\n",
    "            layers.append(nn.Linear(nHidden, nHidden))\n",
    "            layers.append(act_fn)\n",
    "        layers.append(nn.Linear(nHidden, nOutput))\n",
    "        ###############################\n",
    "        \n",
    "        self.model = nn.Sequential(*layers)\n",
    "\n",
    "    def forward(self, x):\n",
    "        x = torch.flatten(x, 1)\n",
    "        x = self.model(x)\n",
    "        return x"
   ]
  },
  {
   "cell_type": "code",
   "execution_count": 20,
   "metadata": {
    "scrolled": true
   },
   "outputs": [
    {
     "data": {
      "text/plain": [
       "torch.Size([1, 10])"
      ]
     },
     "execution_count": 20,
     "metadata": {},
     "output_type": "execute_result"
    }
   ],
   "source": [
    "# Let's test if the forward pass works\n",
    "# this should print torch.Size([1, 10])\n",
    "t = torch.randn(1,1,28,28)\n",
    "mlp = MLP(nInput, nOutput, nLayer, nHidden, act_fn)\n",
    "mlp(t).shape"
   ]
  },
  {
   "cell_type": "code",
   "execution_count": 21,
   "metadata": {},
   "outputs": [
    {
     "data": {
      "text/plain": [
       "MLP(\n",
       "  (model): Sequential(\n",
       "    (0): Linear(in_features=784, out_features=16, bias=True)\n",
       "    (1): ReLU()\n",
       "    (2): Linear(in_features=16, out_features=16, bias=True)\n",
       "    (3): ReLU()\n",
       "    (4): Linear(in_features=16, out_features=10, bias=True)\n",
       "  )\n",
       ")"
      ]
     },
     "execution_count": 21,
     "metadata": {},
     "output_type": "execute_result"
    }
   ],
   "source": [
    "mlp"
   ]
  },
  {
   "cell_type": "markdown",
   "metadata": {},
   "source": [
    "We already implemented the test function for you"
   ]
  },
  {
   "cell_type": "code",
   "execution_count": 22,
   "metadata": {},
   "outputs": [],
   "source": [
    "def test(model, dl_test, device='cpu'):\n",
    "    model.eval()\n",
    "    test_loss = 0\n",
    "    correct = 0\n",
    "    with torch.no_grad():\n",
    "        for data, target in dl_test:\n",
    "            data, target = data.to(device), target.to(device)\n",
    "            output = model(data)\n",
    "            test_loss += F.cross_entropy(output, target, reduction='sum').item()  # sum up batch loss\n",
    "            pred = output.argmax(dim=1, keepdim=True)  # get the index of the max log-probability\n",
    "            correct += pred.eq(target.view_as(pred)).sum().item()\n",
    "\n",
    "    test_loss /= len(dl_test.dataset)\n",
    "\n",
    "    print('\\nTest set: Average loss: {:.4f}, Accuracy: {}/{} ({:.3f}%)\\n'.format(\n",
    "        test_loss, correct, len(dl_test.dataset),\n",
    "        100. * correct / len(dl_test.dataset)))"
   ]
  },
  {
   "cell_type": "markdown",
   "metadata": {},
   "source": [
    "Now you only need to implement the training and you are good to go"
   ]
  },
  {
   "cell_type": "code",
   "execution_count": 23,
   "metadata": {},
   "outputs": [],
   "source": [
    "#########################################################################\n",
    "# TODO: Implement the missing part of the training function. As a loss function we want to use cross entropy\n",
    "# It can be called with F.cross_entropy().\n",
    "# Hint: Pass through the model -> Backpropagate gradients -> Take gradient step\n",
    "#########################################################################\n",
    "\n",
    "def train(model, dl_train, optimizer, epoch, log_interval=100, device='cpu'):\n",
    "    model.train()\n",
    "    correct = 0\n",
    "    for batch_idx, (data, target) in enumerate(dl_train):\n",
    "        data, target = data.to(device), target.to(device)\n",
    "        \n",
    "        # first we need to zero the gradient, otherwise PyTorch would accumulate them\n",
    "        optimizer.zero_grad()         \n",
    "        \n",
    "        ##### implement this part #####\n",
    "        output = model.forward(data)\n",
    "        loss = F.cross_entropy(output, target)\n",
    "        loss.backward()\n",
    "        optimizer.step()\n",
    "        ###############################\n",
    "\n",
    "        # stats\n",
    "        pred = output.argmax(dim=1, keepdim=True)  # get the index of the max log-probability\n",
    "        correct += pred.eq(target.view_as(pred)).sum().item()\n",
    "\n",
    "        if batch_idx % log_interval == 0:\n",
    "            print('Train Epoch: {} [{}/{} ({:.0f}%)]\\tLoss: {:.6f}'.format(\n",
    "                epoch, batch_idx * len(data), len(dl_train.dataset),\n",
    "                100. * batch_idx / len(dl_train), loss.item()))\n",
    "\n",
    "    print('\\nTrain set: Average loss: {:.4f}, Accuracy: {}/{} ({:.1f}%)\\n'.format(\n",
    "        loss, correct, len(dl_train.dataset),\n",
    "        100. * correct / len(dl_train.dataset)))"
   ]
  },
  {
   "cell_type": "markdown",
   "metadata": {},
   "source": [
    "Ok, the setup is almost done. The onoly missing part is the optimizer. We are going to use Adam."
   ]
  },
  {
   "cell_type": "code",
   "execution_count": 24,
   "metadata": {},
   "outputs": [],
   "source": [
    "# reinitialize the mlp, so we can play with parameters right here\n",
    "mlp = MLP(nInput, nOutput, nLayer, nHidden, act_fn)\n",
    "optimizer = optim.Adam(mlp.parameters())"
   ]
  },
  {
   "cell_type": "code",
   "execution_count": 25,
   "metadata": {
    "scrolled": true
   },
   "outputs": [
    {
     "name": "stdout",
     "output_type": "stream",
     "text": [
      "Train Epoch: 1 [0/60000 (0%)]\tLoss: 2.352449\n",
      "Train Epoch: 1 [6400/60000 (11%)]\tLoss: 0.707289\n",
      "Train Epoch: 1 [12800/60000 (21%)]\tLoss: 0.532663\n",
      "Train Epoch: 1 [19200/60000 (32%)]\tLoss: 0.519744\n",
      "Train Epoch: 1 [25600/60000 (43%)]\tLoss: 0.425182\n",
      "Train Epoch: 1 [32000/60000 (53%)]\tLoss: 0.328896\n",
      "Train Epoch: 1 [38400/60000 (64%)]\tLoss: 0.215765\n",
      "Train Epoch: 1 [44800/60000 (75%)]\tLoss: 0.318127\n",
      "Train Epoch: 1 [51200/60000 (85%)]\tLoss: 0.214472\n",
      "Train Epoch: 1 [57600/60000 (96%)]\tLoss: 0.277549\n",
      "\n",
      "Train set: Average loss: 0.2546, Accuracy: 52309/60000 (87.2%)\n",
      "\n",
      "\n",
      "Test set: Average loss: 0.2964, Accuracy: 9149/10000 (91.490%)\n",
      "\n",
      "Train Epoch: 2 [0/60000 (0%)]\tLoss: 0.250154\n",
      "Train Epoch: 2 [6400/60000 (11%)]\tLoss: 0.189128\n",
      "Train Epoch: 2 [12800/60000 (21%)]\tLoss: 0.151998\n",
      "Train Epoch: 2 [19200/60000 (32%)]\tLoss: 0.133746\n",
      "Train Epoch: 2 [25600/60000 (43%)]\tLoss: 0.207578\n",
      "Train Epoch: 2 [32000/60000 (53%)]\tLoss: 0.187199\n",
      "Train Epoch: 2 [38400/60000 (64%)]\tLoss: 0.229091\n",
      "Train Epoch: 2 [44800/60000 (75%)]\tLoss: 0.117555\n",
      "Train Epoch: 2 [51200/60000 (85%)]\tLoss: 0.175893\n",
      "Train Epoch: 2 [57600/60000 (96%)]\tLoss: 0.356705\n",
      "\n",
      "Train set: Average loss: 0.1284, Accuracy: 55755/60000 (92.9%)\n",
      "\n",
      "\n",
      "Test set: Average loss: 0.2093, Accuracy: 9402/10000 (94.020%)\n",
      "\n",
      "Train Epoch: 3 [0/60000 (0%)]\tLoss: 0.130772\n",
      "Train Epoch: 3 [6400/60000 (11%)]\tLoss: 0.285881\n",
      "Train Epoch: 3 [12800/60000 (21%)]\tLoss: 0.194986\n",
      "Train Epoch: 3 [19200/60000 (32%)]\tLoss: 0.173356\n",
      "Train Epoch: 3 [25600/60000 (43%)]\tLoss: 0.369762\n",
      "Train Epoch: 3 [32000/60000 (53%)]\tLoss: 0.254274\n",
      "Train Epoch: 3 [38400/60000 (64%)]\tLoss: 0.156060\n",
      "Train Epoch: 3 [44800/60000 (75%)]\tLoss: 0.057442\n",
      "Train Epoch: 3 [51200/60000 (85%)]\tLoss: 0.253481\n",
      "Train Epoch: 3 [57600/60000 (96%)]\tLoss: 0.109085\n",
      "\n",
      "Train set: Average loss: 0.3758, Accuracy: 56380/60000 (94.0%)\n",
      "\n",
      "\n",
      "Test set: Average loss: 0.1964, Accuracy: 9436/10000 (94.360%)\n",
      "\n",
      "Train Epoch: 4 [0/60000 (0%)]\tLoss: 0.271657\n",
      "Train Epoch: 4 [6400/60000 (11%)]\tLoss: 0.166976\n",
      "Train Epoch: 4 [12800/60000 (21%)]\tLoss: 0.198329\n",
      "Train Epoch: 4 [19200/60000 (32%)]\tLoss: 0.184362\n",
      "Train Epoch: 4 [25600/60000 (43%)]\tLoss: 0.313035\n",
      "Train Epoch: 4 [32000/60000 (53%)]\tLoss: 0.092130\n",
      "Train Epoch: 4 [38400/60000 (64%)]\tLoss: 0.211444\n",
      "Train Epoch: 4 [44800/60000 (75%)]\tLoss: 0.245482\n",
      "Train Epoch: 4 [51200/60000 (85%)]\tLoss: 0.178098\n",
      "Train Epoch: 4 [57600/60000 (96%)]\tLoss: 0.158311\n",
      "\n",
      "Train set: Average loss: 0.2095, Accuracy: 56735/60000 (94.6%)\n",
      "\n",
      "\n",
      "Test set: Average loss: 0.1848, Accuracy: 9454/10000 (94.540%)\n",
      "\n",
      "Train Epoch: 5 [0/60000 (0%)]\tLoss: 0.211128\n",
      "Train Epoch: 5 [6400/60000 (11%)]\tLoss: 0.179508\n",
      "Train Epoch: 5 [12800/60000 (21%)]\tLoss: 0.101472\n",
      "Train Epoch: 5 [19200/60000 (32%)]\tLoss: 0.095268\n",
      "Train Epoch: 5 [25600/60000 (43%)]\tLoss: 0.201456\n",
      "Train Epoch: 5 [32000/60000 (53%)]\tLoss: 0.097571\n",
      "Train Epoch: 5 [38400/60000 (64%)]\tLoss: 0.287398\n",
      "Train Epoch: 5 [44800/60000 (75%)]\tLoss: 0.191566\n",
      "Train Epoch: 5 [51200/60000 (85%)]\tLoss: 0.195073\n",
      "Train Epoch: 5 [57600/60000 (96%)]\tLoss: 0.113392\n",
      "\n",
      "Train set: Average loss: 0.2858, Accuracy: 56930/60000 (94.9%)\n",
      "\n",
      "\n",
      "Test set: Average loss: 0.1728, Accuracy: 9506/10000 (95.060%)\n",
      "\n",
      "Train Epoch: 6 [0/60000 (0%)]\tLoss: 0.146094\n",
      "Train Epoch: 6 [6400/60000 (11%)]\tLoss: 0.199763\n",
      "Train Epoch: 6 [12800/60000 (21%)]\tLoss: 0.069159\n",
      "Train Epoch: 6 [19200/60000 (32%)]\tLoss: 0.236742\n",
      "Train Epoch: 6 [25600/60000 (43%)]\tLoss: 0.140411\n",
      "Train Epoch: 6 [32000/60000 (53%)]\tLoss: 0.102045\n",
      "Train Epoch: 6 [38400/60000 (64%)]\tLoss: 0.189004\n",
      "Train Epoch: 6 [44800/60000 (75%)]\tLoss: 0.088789\n",
      "Train Epoch: 6 [51200/60000 (85%)]\tLoss: 0.126488\n",
      "Train Epoch: 6 [57600/60000 (96%)]\tLoss: 0.121969\n",
      "\n",
      "Train set: Average loss: 0.2436, Accuracy: 57070/60000 (95.1%)\n",
      "\n",
      "\n",
      "Test set: Average loss: 0.1674, Accuracy: 9513/10000 (95.130%)\n",
      "\n",
      "Train Epoch: 7 [0/60000 (0%)]\tLoss: 0.118810\n",
      "Train Epoch: 7 [6400/60000 (11%)]\tLoss: 0.154105\n",
      "Train Epoch: 7 [12800/60000 (21%)]\tLoss: 0.187617\n",
      "Train Epoch: 7 [19200/60000 (32%)]\tLoss: 0.083804\n",
      "Train Epoch: 7 [25600/60000 (43%)]\tLoss: 0.099743\n",
      "Train Epoch: 7 [32000/60000 (53%)]\tLoss: 0.109314\n",
      "Train Epoch: 7 [38400/60000 (64%)]\tLoss: 0.092662\n",
      "Train Epoch: 7 [44800/60000 (75%)]\tLoss: 0.216051\n",
      "Train Epoch: 7 [51200/60000 (85%)]\tLoss: 0.327876\n",
      "Train Epoch: 7 [57600/60000 (96%)]\tLoss: 0.097478\n",
      "\n",
      "Train set: Average loss: 0.0507, Accuracy: 57202/60000 (95.3%)\n",
      "\n",
      "\n",
      "Test set: Average loss: 0.1734, Accuracy: 9501/10000 (95.010%)\n",
      "\n",
      "Train Epoch: 8 [0/60000 (0%)]\tLoss: 0.152144\n",
      "Train Epoch: 8 [6400/60000 (11%)]\tLoss: 0.040624\n",
      "Train Epoch: 8 [12800/60000 (21%)]\tLoss: 0.125448\n",
      "Train Epoch: 8 [19200/60000 (32%)]\tLoss: 0.139938\n",
      "Train Epoch: 8 [25600/60000 (43%)]\tLoss: 0.228136\n",
      "Train Epoch: 8 [32000/60000 (53%)]\tLoss: 0.073902\n",
      "Train Epoch: 8 [38400/60000 (64%)]\tLoss: 0.115136\n",
      "Train Epoch: 8 [44800/60000 (75%)]\tLoss: 0.155216\n",
      "Train Epoch: 8 [51200/60000 (85%)]\tLoss: 0.135496\n",
      "Train Epoch: 8 [57600/60000 (96%)]\tLoss: 0.256624\n",
      "\n",
      "Train set: Average loss: 0.0362, Accuracy: 57344/60000 (95.6%)\n",
      "\n",
      "\n",
      "Test set: Average loss: 0.1595, Accuracy: 9522/10000 (95.220%)\n",
      "\n",
      "Train Epoch: 9 [0/60000 (0%)]\tLoss: 0.179025\n",
      "Train Epoch: 9 [6400/60000 (11%)]\tLoss: 0.203050\n",
      "Train Epoch: 9 [12800/60000 (21%)]\tLoss: 0.119865\n",
      "Train Epoch: 9 [19200/60000 (32%)]\tLoss: 0.129981\n",
      "Train Epoch: 9 [25600/60000 (43%)]\tLoss: 0.144829\n",
      "Train Epoch: 9 [32000/60000 (53%)]\tLoss: 0.091125\n",
      "Train Epoch: 9 [38400/60000 (64%)]\tLoss: 0.443519\n",
      "Train Epoch: 9 [44800/60000 (75%)]\tLoss: 0.152530\n",
      "Train Epoch: 9 [51200/60000 (85%)]\tLoss: 0.074206\n",
      "Train Epoch: 9 [57600/60000 (96%)]\tLoss: 0.122128\n",
      "\n",
      "Train set: Average loss: 0.1634, Accuracy: 57469/60000 (95.8%)\n",
      "\n",
      "\n",
      "Test set: Average loss: 0.1501, Accuracy: 9556/10000 (95.560%)\n",
      "\n",
      "Train Epoch: 10 [0/60000 (0%)]\tLoss: 0.051525\n",
      "Train Epoch: 10 [6400/60000 (11%)]\tLoss: 0.103624\n",
      "Train Epoch: 10 [12800/60000 (21%)]\tLoss: 0.176834\n",
      "Train Epoch: 10 [19200/60000 (32%)]\tLoss: 0.350296\n",
      "Train Epoch: 10 [25600/60000 (43%)]\tLoss: 0.060627\n",
      "Train Epoch: 10 [32000/60000 (53%)]\tLoss: 0.077790\n",
      "Train Epoch: 10 [38400/60000 (64%)]\tLoss: 0.414283\n",
      "Train Epoch: 10 [44800/60000 (75%)]\tLoss: 0.076245\n",
      "Train Epoch: 10 [51200/60000 (85%)]\tLoss: 0.148582\n",
      "Train Epoch: 10 [57600/60000 (96%)]\tLoss: 0.101014\n",
      "\n",
      "Train set: Average loss: 0.0438, Accuracy: 57526/60000 (95.9%)\n",
      "\n",
      "\n",
      "Test set: Average loss: 0.1501, Accuracy: 9553/10000 (95.530%)\n",
      "\n",
      "Training is finished.\n"
     ]
    }
   ],
   "source": [
    "epochs = 10\n",
    "for epoch in range(1, epochs + 1):\n",
    "    train(mlp, dl_train, optimizer, epoch, log_interval=100)\n",
    "    test(mlp, dl_test)\n",
    "\n",
    "print ('Training is finished.')"
   ]
  },
  {
   "cell_type": "markdown",
   "metadata": {},
   "source": [
    "After training, you should see test accuracies of > **94%** - By they way, here we report test accuracy, the last exercises reported test error. Accuracy is simply (1 - error). Both metrics are commonly reported, there is no clear preference in literature for one or the other."
   ]
  },
  {
   "cell_type": "markdown",
   "metadata": {},
   "source": [
    "Now, can you do some parameter tuning to boost the test accuracy to > **97%**?"
   ]
  },
  {
   "cell_type": "code",
   "execution_count": 26,
   "metadata": {},
   "outputs": [
    {
     "name": "stdout",
     "output_type": "stream",
     "text": [
      "Train Epoch: 1 [0/60000 (0%)]\tLoss: 2.332053\n",
      "Train Epoch: 1 [6400/60000 (11%)]\tLoss: 1.634820\n",
      "Train Epoch: 1 [12800/60000 (21%)]\tLoss: 1.277991\n",
      "Train Epoch: 1 [19200/60000 (32%)]\tLoss: 0.792353\n",
      "Train Epoch: 1 [25600/60000 (43%)]\tLoss: 0.786180\n",
      "Train Epoch: 1 [32000/60000 (53%)]\tLoss: 0.516561\n",
      "Train Epoch: 1 [38400/60000 (64%)]\tLoss: 0.408078\n",
      "Train Epoch: 1 [44800/60000 (75%)]\tLoss: 0.288483\n",
      "Train Epoch: 1 [51200/60000 (85%)]\tLoss: 0.613154\n",
      "Train Epoch: 1 [57600/60000 (96%)]\tLoss: 0.239228\n",
      "\n",
      "Train set: Average loss: 0.0658, Accuracy: 43071/60000 (71.8%)\n",
      "\n",
      "\n",
      "Test set: Average loss: 0.2570, Accuracy: 9261/10000 (92.610%)\n",
      "\n",
      "Train Epoch: 2 [0/60000 (0%)]\tLoss: 0.078160\n",
      "Train Epoch: 2 [6400/60000 (11%)]\tLoss: 0.330871\n",
      "Train Epoch: 2 [12800/60000 (21%)]\tLoss: 0.170190\n",
      "Train Epoch: 2 [19200/60000 (32%)]\tLoss: 0.289358\n",
      "Train Epoch: 2 [25600/60000 (43%)]\tLoss: 0.124584\n",
      "Train Epoch: 2 [32000/60000 (53%)]\tLoss: 0.419562\n",
      "Train Epoch: 2 [38400/60000 (64%)]\tLoss: 0.096378\n",
      "Train Epoch: 2 [44800/60000 (75%)]\tLoss: 0.270045\n",
      "Train Epoch: 2 [51200/60000 (85%)]\tLoss: 0.181647\n",
      "Train Epoch: 2 [57600/60000 (96%)]\tLoss: 0.035880\n",
      "\n",
      "Train set: Average loss: 0.1180, Accuracy: 56110/60000 (93.5%)\n",
      "\n",
      "\n",
      "Test set: Average loss: 0.2016, Accuracy: 9424/10000 (94.240%)\n",
      "\n",
      "Train Epoch: 3 [0/60000 (0%)]\tLoss: 0.117354\n",
      "Train Epoch: 3 [6400/60000 (11%)]\tLoss: 0.119602\n",
      "Train Epoch: 3 [12800/60000 (21%)]\tLoss: 0.152237\n",
      "Train Epoch: 3 [19200/60000 (32%)]\tLoss: 0.065815\n",
      "Train Epoch: 3 [25600/60000 (43%)]\tLoss: 0.311090\n",
      "Train Epoch: 3 [32000/60000 (53%)]\tLoss: 0.054185\n",
      "Train Epoch: 3 [38400/60000 (64%)]\tLoss: 0.444212\n",
      "Train Epoch: 3 [44800/60000 (75%)]\tLoss: 0.185841\n",
      "Train Epoch: 3 [51200/60000 (85%)]\tLoss: 0.125198\n",
      "Train Epoch: 3 [57600/60000 (96%)]\tLoss: 0.159277\n",
      "\n",
      "Train set: Average loss: 0.3425, Accuracy: 57171/60000 (95.3%)\n",
      "\n",
      "\n",
      "Test set: Average loss: 0.1633, Accuracy: 9548/10000 (95.480%)\n",
      "\n",
      "Train Epoch: 4 [0/60000 (0%)]\tLoss: 0.122180\n",
      "Train Epoch: 4 [6400/60000 (11%)]\tLoss: 0.065812\n",
      "Train Epoch: 4 [12800/60000 (21%)]\tLoss: 0.192374\n",
      "Train Epoch: 4 [19200/60000 (32%)]\tLoss: 0.045097\n",
      "Train Epoch: 4 [25600/60000 (43%)]\tLoss: 0.038550\n",
      "Train Epoch: 4 [32000/60000 (53%)]\tLoss: 0.085769\n",
      "Train Epoch: 4 [38400/60000 (64%)]\tLoss: 0.112373\n",
      "Train Epoch: 4 [44800/60000 (75%)]\tLoss: 0.059726\n",
      "Train Epoch: 4 [51200/60000 (85%)]\tLoss: 0.176520\n",
      "Train Epoch: 4 [57600/60000 (96%)]\tLoss: 0.071878\n",
      "\n",
      "Train set: Average loss: 0.0141, Accuracy: 57682/60000 (96.1%)\n",
      "\n",
      "\n",
      "Test set: Average loss: 0.1543, Accuracy: 9593/10000 (95.930%)\n",
      "\n",
      "Train Epoch: 5 [0/60000 (0%)]\tLoss: 0.047574\n",
      "Train Epoch: 5 [6400/60000 (11%)]\tLoss: 0.119791\n",
      "Train Epoch: 5 [12800/60000 (21%)]\tLoss: 0.169901\n",
      "Train Epoch: 5 [19200/60000 (32%)]\tLoss: 0.109330\n",
      "Train Epoch: 5 [25600/60000 (43%)]\tLoss: 0.164855\n",
      "Train Epoch: 5 [32000/60000 (53%)]\tLoss: 0.019598\n",
      "Train Epoch: 5 [38400/60000 (64%)]\tLoss: 0.211908\n",
      "Train Epoch: 5 [44800/60000 (75%)]\tLoss: 0.013616\n",
      "Train Epoch: 5 [51200/60000 (85%)]\tLoss: 0.321762\n",
      "Train Epoch: 5 [57600/60000 (96%)]\tLoss: 0.018300\n",
      "\n",
      "Train set: Average loss: 0.1982, Accuracy: 58035/60000 (96.7%)\n",
      "\n",
      "\n",
      "Test set: Average loss: 0.1512, Accuracy: 9614/10000 (96.140%)\n",
      "\n",
      "Train Epoch: 6 [0/60000 (0%)]\tLoss: 0.055266\n",
      "Train Epoch: 6 [6400/60000 (11%)]\tLoss: 0.014051\n",
      "Train Epoch: 6 [12800/60000 (21%)]\tLoss: 0.036227\n",
      "Train Epoch: 6 [19200/60000 (32%)]\tLoss: 0.028459\n",
      "Train Epoch: 6 [25600/60000 (43%)]\tLoss: 0.027288\n",
      "Train Epoch: 6 [32000/60000 (53%)]\tLoss: 0.013609\n",
      "Train Epoch: 6 [38400/60000 (64%)]\tLoss: 0.168936\n",
      "Train Epoch: 6 [44800/60000 (75%)]\tLoss: 0.127570\n",
      "Train Epoch: 6 [51200/60000 (85%)]\tLoss: 0.158684\n",
      "Train Epoch: 6 [57600/60000 (96%)]\tLoss: 0.040425\n",
      "\n",
      "Train set: Average loss: 0.0195, Accuracy: 58271/60000 (97.1%)\n",
      "\n",
      "\n",
      "Test set: Average loss: 0.1283, Accuracy: 9651/10000 (96.510%)\n",
      "\n",
      "Train Epoch: 7 [0/60000 (0%)]\tLoss: 0.078804\n",
      "Train Epoch: 7 [6400/60000 (11%)]\tLoss: 0.097545\n",
      "Train Epoch: 7 [12800/60000 (21%)]\tLoss: 0.061345\n",
      "Train Epoch: 7 [19200/60000 (32%)]\tLoss: 0.079298\n",
      "Train Epoch: 7 [25600/60000 (43%)]\tLoss: 0.125824\n",
      "Train Epoch: 7 [32000/60000 (53%)]\tLoss: 0.107765\n",
      "Train Epoch: 7 [38400/60000 (64%)]\tLoss: 0.128613\n",
      "Train Epoch: 7 [44800/60000 (75%)]\tLoss: 0.018999\n",
      "Train Epoch: 7 [51200/60000 (85%)]\tLoss: 0.076490\n",
      "Train Epoch: 7 [57600/60000 (96%)]\tLoss: 0.373489\n",
      "\n",
      "Train set: Average loss: 0.0488, Accuracy: 58492/60000 (97.5%)\n",
      "\n",
      "\n",
      "Test set: Average loss: 0.1187, Accuracy: 9689/10000 (96.890%)\n",
      "\n",
      "Train Epoch: 8 [0/60000 (0%)]\tLoss: 0.115394\n",
      "Train Epoch: 8 [6400/60000 (11%)]\tLoss: 0.140526\n",
      "Train Epoch: 8 [12800/60000 (21%)]\tLoss: 0.117381\n",
      "Train Epoch: 8 [19200/60000 (32%)]\tLoss: 0.068448\n",
      "Train Epoch: 8 [25600/60000 (43%)]\tLoss: 0.130102\n",
      "Train Epoch: 8 [32000/60000 (53%)]\tLoss: 0.096439\n",
      "Train Epoch: 8 [38400/60000 (64%)]\tLoss: 0.071389\n",
      "Train Epoch: 8 [44800/60000 (75%)]\tLoss: 0.148888\n",
      "Train Epoch: 8 [51200/60000 (85%)]\tLoss: 0.054419\n",
      "Train Epoch: 8 [57600/60000 (96%)]\tLoss: 0.098446\n",
      "\n",
      "Train set: Average loss: 0.0206, Accuracy: 58626/60000 (97.7%)\n",
      "\n",
      "\n",
      "Test set: Average loss: 0.1185, Accuracy: 9670/10000 (96.700%)\n",
      "\n",
      "Train Epoch: 9 [0/60000 (0%)]\tLoss: 0.007429\n",
      "Train Epoch: 9 [6400/60000 (11%)]\tLoss: 0.214650\n",
      "Train Epoch: 9 [12800/60000 (21%)]\tLoss: 0.038721\n",
      "Train Epoch: 9 [19200/60000 (32%)]\tLoss: 0.086083\n",
      "Train Epoch: 9 [25600/60000 (43%)]\tLoss: 0.016704\n",
      "Train Epoch: 9 [32000/60000 (53%)]\tLoss: 0.161915\n",
      "Train Epoch: 9 [38400/60000 (64%)]\tLoss: 0.022195\n",
      "Train Epoch: 9 [44800/60000 (75%)]\tLoss: 0.074760\n",
      "Train Epoch: 9 [51200/60000 (85%)]\tLoss: 0.178959\n",
      "Train Epoch: 9 [57600/60000 (96%)]\tLoss: 0.028524\n",
      "\n",
      "Train set: Average loss: 0.0179, Accuracy: 58740/60000 (97.9%)\n",
      "\n",
      "\n",
      "Test set: Average loss: 0.1195, Accuracy: 9686/10000 (96.860%)\n",
      "\n",
      "Train Epoch: 10 [0/60000 (0%)]\tLoss: 0.084642\n",
      "Train Epoch: 10 [6400/60000 (11%)]\tLoss: 0.014977\n",
      "Train Epoch: 10 [12800/60000 (21%)]\tLoss: 0.014981\n",
      "Train Epoch: 10 [19200/60000 (32%)]\tLoss: 0.121027\n",
      "Train Epoch: 10 [25600/60000 (43%)]\tLoss: 0.110503\n",
      "Train Epoch: 10 [32000/60000 (53%)]\tLoss: 0.031375\n",
      "Train Epoch: 10 [38400/60000 (64%)]\tLoss: 0.067249\n",
      "Train Epoch: 10 [44800/60000 (75%)]\tLoss: 0.011098\n",
      "Train Epoch: 10 [51200/60000 (85%)]\tLoss: 0.009653\n",
      "Train Epoch: 10 [57600/60000 (96%)]\tLoss: 0.050444\n",
      "\n",
      "Train set: Average loss: 0.0052, Accuracy: 58805/60000 (98.0%)\n",
      "\n",
      "\n",
      "Test set: Average loss: 0.1106, Accuracy: 9715/10000 (97.150%)\n",
      "\n",
      "Training is finished.\n"
     ]
    }
   ],
   "source": [
    "#########################################################################\n",
    "#TODO: modify the parameters below to see which setting that you can get to 97%\n",
    "#########################################################################\n",
    "nLayer = 10 #5\n",
    "nHidden = 50 #30\n",
    "act_fn = nn.LogSigmoid()\n",
    "\n",
    "# reinitialize the mlp, so we can play with parameters right here\n",
    "mlp = MLP(nInput, nOutput, nLayer, nHidden, act_fn)\n",
    "optimizer = optim.Adam(mlp.parameters())\n",
    "\n",
    "epochs = 10 #18\n",
    "for epoch in range(1, epochs + 1):\n",
    "    train(mlp, dl_train, optimizer, epoch, log_interval=100)\n",
    "    test(mlp, dl_test)\n",
    "\n",
    "print ('Training is finished.')"
   ]
  },
  {
   "cell_type": "markdown",
   "metadata": {},
   "source": [
    "Before you move on to the next exercise, you can further play with the other parameters (learning rate, epochs, a different optimizer, etc.) to get a feeling what can improve or hamper performance. "
   ]
  },
  {
   "cell_type": "markdown",
   "metadata": {},
   "source": [
    "## CNN\n",
    "Alright, we matched our prior performance. Let's surpass it! You will soon see the power of CNN by building a small one yourself. The structure should be as follows\n",
    "\n",
    "| CNN Architecture                             \t|\n",
    "|----------------------------------------------\t|\n",
    "| Conv: $C_{in}=1, C_{out}=32, K=3, S=1, P=0$  \t|\n",
    "| ReLU                                         \t|\n",
    "| Conv: $C_{in}=32, C_{out}=64, K=3, S=1, P=0$ \t|\n",
    "| ReLU                                         \t|\n",
    "| MaxPool2d: $K=2, S=2, P=0$                   \t|\n",
    "| Dropout: $p=0.25$                            \t|\n",
    "| Linear: $C_{in}=9216, C_{out}=128$           \t|\n",
    "| ReLU                                         \t|\n",
    "| Dropout: $p=0.5$                             \t|\n",
    "| Linear: $C_{in}=128, C_{out}=10$             \t|\n",
    "\n",
    "The layers you will need are: \n",
    "\n",
    "`nn.Conv2d,  nn.Linear,  nn.Dropout, nn.MaxPool2d, nn.Flatten`\n",
    "\n",
    "For layers without parameters you can alternatively use function in the forward pass:  \n",
    "\n",
    "`F.max_pool2d, torch.flatten`"
   ]
  },
  {
   "cell_type": "code",
   "execution_count": 27,
   "metadata": {},
   "outputs": [],
   "source": [
    "#########################################################################\n",
    "# TODO: Implement the __init__ and forward method of the CNN class. \n",
    "# Hint: do not forget to flatten the appropriate dimension after the convolutional blocks. \n",
    "# A linear layers expect input of the size (B, H) with batch size B and feature size H\n",
    "#########################################################################\n",
    "\n",
    "class CNN(nn.Module):\n",
    "    def __init__(self):\n",
    "        super(CNN, self).__init__()\n",
    "        self.model = nn.Sequential(nn.Conv2d(1, 32, 3, 1, 0), nn.ReLU(), \\\n",
    "                                   nn.Conv2d(32, 64, 3, 1, 0), nn.ReLU(), \\\n",
    "                                   nn.MaxPool2d(2, 2, 0), nn.Dropout(0.25), \\\n",
    "                                   nn.Flatten(), nn.Linear(9216, 128), nn.ReLU(), \\\n",
    "                                   nn.Dropout(0.5), nn.Linear(128,10))\n",
    "    def forward(self, x):\n",
    "        #x = torch.flatten(x, 1)\n",
    "        return self.model(x)"
   ]
  },
  {
   "cell_type": "code",
   "execution_count": 28,
   "metadata": {},
   "outputs": [
    {
     "data": {
      "text/plain": [
       "torch.Size([1, 10])"
      ]
     },
     "execution_count": 28,
     "metadata": {},
     "output_type": "execute_result"
    }
   ],
   "source": [
    "# Let's test if the forward pass works\n",
    "# this should print torch.Size([1, 10])\n",
    "t = torch.randn(1,1,28,28)\n",
    "cnn = CNN()\n",
    "cnn(t).shape"
   ]
  },
  {
   "cell_type": "markdown",
   "metadata": {},
   "source": [
    "Alright, let's train!"
   ]
  },
  {
   "cell_type": "code",
   "execution_count": 29,
   "metadata": {},
   "outputs": [],
   "source": [
    "optimizer = optim.Adam(cnn.parameters())"
   ]
  },
  {
   "cell_type": "code",
   "execution_count": 30,
   "metadata": {
    "scrolled": true
   },
   "outputs": [
    {
     "name": "stdout",
     "output_type": "stream",
     "text": [
      "Train Epoch: 1 [0/60000 (0%)]\tLoss: 2.286173\n",
      "Train Epoch: 1 [6400/60000 (11%)]\tLoss: 0.312677\n",
      "Train Epoch: 1 [12800/60000 (21%)]\tLoss: 0.187301\n",
      "Train Epoch: 1 [19200/60000 (32%)]\tLoss: 0.075680\n",
      "Train Epoch: 1 [25600/60000 (43%)]\tLoss: 0.048019\n",
      "Train Epoch: 1 [32000/60000 (53%)]\tLoss: 0.078526\n",
      "Train Epoch: 1 [38400/60000 (64%)]\tLoss: 0.109659\n",
      "Train Epoch: 1 [44800/60000 (75%)]\tLoss: 0.269044\n",
      "Train Epoch: 1 [51200/60000 (85%)]\tLoss: 0.171462\n",
      "Train Epoch: 1 [57600/60000 (96%)]\tLoss: 0.062868\n",
      "\n",
      "Train set: Average loss: 0.0438, Accuracy: 56499/60000 (94.2%)\n",
      "\n",
      "\n",
      "Test set: Average loss: 0.0561, Accuracy: 9817/10000 (98.170%)\n",
      "\n",
      "Train Epoch: 2 [0/60000 (0%)]\tLoss: 0.060785\n",
      "Train Epoch: 2 [6400/60000 (11%)]\tLoss: 0.084369\n",
      "Train Epoch: 2 [12800/60000 (21%)]\tLoss: 0.027246\n",
      "Train Epoch: 2 [19200/60000 (32%)]\tLoss: 0.033571\n",
      "Train Epoch: 2 [25600/60000 (43%)]\tLoss: 0.023703\n",
      "Train Epoch: 2 [32000/60000 (53%)]\tLoss: 0.041527\n",
      "Train Epoch: 2 [38400/60000 (64%)]\tLoss: 0.057290\n",
      "Train Epoch: 2 [44800/60000 (75%)]\tLoss: 0.037699\n",
      "Train Epoch: 2 [51200/60000 (85%)]\tLoss: 0.020949\n",
      "Train Epoch: 2 [57600/60000 (96%)]\tLoss: 0.236749\n",
      "\n",
      "Train set: Average loss: 0.0088, Accuracy: 58527/60000 (97.5%)\n",
      "\n",
      "\n",
      "Test set: Average loss: 0.0356, Accuracy: 9882/10000 (98.820%)\n",
      "\n",
      "Train Epoch: 3 [0/60000 (0%)]\tLoss: 0.016117\n",
      "Train Epoch: 3 [6400/60000 (11%)]\tLoss: 0.038813\n",
      "Train Epoch: 3 [12800/60000 (21%)]\tLoss: 0.009296\n",
      "Train Epoch: 3 [19200/60000 (32%)]\tLoss: 0.021349\n",
      "Train Epoch: 3 [25600/60000 (43%)]\tLoss: 0.041349\n",
      "Train Epoch: 3 [32000/60000 (53%)]\tLoss: 0.014201\n",
      "Train Epoch: 3 [38400/60000 (64%)]\tLoss: 0.059523\n",
      "Train Epoch: 3 [44800/60000 (75%)]\tLoss: 0.041209\n",
      "Train Epoch: 3 [51200/60000 (85%)]\tLoss: 0.019738\n",
      "Train Epoch: 3 [57600/60000 (96%)]\tLoss: 0.070102\n",
      "\n",
      "Train set: Average loss: 0.0124, Accuracy: 58824/60000 (98.0%)\n",
      "\n",
      "\n",
      "Test set: Average loss: 0.0280, Accuracy: 9915/10000 (99.150%)\n",
      "\n",
      "Train Epoch: 4 [0/60000 (0%)]\tLoss: 0.113917\n",
      "Train Epoch: 4 [6400/60000 (11%)]\tLoss: 0.068264\n",
      "Train Epoch: 4 [12800/60000 (21%)]\tLoss: 0.047912\n",
      "Train Epoch: 4 [19200/60000 (32%)]\tLoss: 0.112656\n",
      "Train Epoch: 4 [25600/60000 (43%)]\tLoss: 0.045663\n",
      "Train Epoch: 4 [32000/60000 (53%)]\tLoss: 0.022642\n",
      "Train Epoch: 4 [38400/60000 (64%)]\tLoss: 0.006413\n",
      "Train Epoch: 4 [44800/60000 (75%)]\tLoss: 0.005828\n",
      "Train Epoch: 4 [51200/60000 (85%)]\tLoss: 0.027143\n",
      "Train Epoch: 4 [57600/60000 (96%)]\tLoss: 0.014968\n",
      "\n",
      "Train set: Average loss: 0.0329, Accuracy: 59008/60000 (98.3%)\n",
      "\n",
      "\n",
      "Test set: Average loss: 0.0298, Accuracy: 9909/10000 (99.090%)\n",
      "\n",
      "Train Epoch: 5 [0/60000 (0%)]\tLoss: 0.038586\n",
      "Train Epoch: 5 [6400/60000 (11%)]\tLoss: 0.015386\n",
      "Train Epoch: 5 [12800/60000 (21%)]\tLoss: 0.077906\n",
      "Train Epoch: 5 [19200/60000 (32%)]\tLoss: 0.088089\n",
      "Train Epoch: 5 [25600/60000 (43%)]\tLoss: 0.020065\n",
      "Train Epoch: 5 [32000/60000 (53%)]\tLoss: 0.065170\n",
      "Train Epoch: 5 [38400/60000 (64%)]\tLoss: 0.050990\n",
      "Train Epoch: 5 [44800/60000 (75%)]\tLoss: 0.189858\n",
      "Train Epoch: 5 [51200/60000 (85%)]\tLoss: 0.067118\n",
      "Train Epoch: 5 [57600/60000 (96%)]\tLoss: 0.121022\n",
      "\n",
      "Train set: Average loss: 0.0361, Accuracy: 59140/60000 (98.6%)\n",
      "\n",
      "\n",
      "Test set: Average loss: 0.0335, Accuracy: 9903/10000 (99.030%)\n",
      "\n"
     ]
    }
   ],
   "source": [
    "epochs = 5\n",
    "for epoch in range(1, epochs + 1):\n",
    "    train(cnn, dl_train, optimizer, epoch, log_interval=100)\n",
    "    test(cnn, dl_test)"
   ]
  },
  {
   "cell_type": "markdown",
   "metadata": {},
   "source": [
    "This will probably take a bit longer to train, as a convolutional network is not very efficient on a CPU. The current settings should get you around **99%** accuracy. Nice! \n",
    "Again, you should try different hyperparameters and see how far you can push the performance."
   ]
  },
  {
   "cell_type": "markdown",
   "metadata": {},
   "source": [
    "### Inline Question\n",
    "\n",
    "If your model weight is randomly initalized, and no training is done as above. What accuracy do you think the model will get for a 10-class classification task in theory?\n",
    "\n",
    "**Your answer**: 10% \n"
   ]
  },
  {
   "cell_type": "markdown",
   "metadata": {},
   "source": [
    "## Training on CIFAR10\n",
    "\n",
    "Now we are going to move to something more challenging - CIFAR10. We can reuse most of the code above. Thankfully, CIFAR is also a popular dataset, so we can again make use of a PyTorch convience function."
   ]
  },
  {
   "cell_type": "code",
   "execution_count": 31,
   "metadata": {},
   "outputs": [
    {
     "name": "stdout",
     "output_type": "stream",
     "text": [
      "Files already downloaded and verified\n"
     ]
    }
   ],
   "source": [
    "ds_train = datasets.CIFAR10(root='./data', train=True, download=True)"
   ]
  },
  {
   "cell_type": "markdown",
   "metadata": {},
   "source": [
    "This dataset is not normalized yet, so we need to calculate the normalization constants."
   ]
  },
  {
   "cell_type": "code",
   "execution_count": 32,
   "metadata": {},
   "outputs": [],
   "source": [
    "ims_train = torch.tensor(ds_train.data)\n",
    "ims_train = ims_train.float() / 255."
   ]
  },
  {
   "cell_type": "code",
   "execution_count": 33,
   "metadata": {},
   "outputs": [
    {
     "data": {
      "text/plain": [
       "tensor([0.2470, 0.2435, 0.2616])"
      ]
     },
     "execution_count": 33,
     "metadata": {},
     "output_type": "execute_result"
    }
   ],
   "source": [
    "ims_train.std((0,1,2))"
   ]
  },
  {
   "cell_type": "code",
   "execution_count": 34,
   "metadata": {},
   "outputs": [],
   "source": [
    "#########################################################################\n",
    "# TODO: calculate the mean and std of CIFAR\n",
    "# hint: We want the mean and std of the channel dimension, these should\n",
    "# be 3 dimensional\n",
    "#########################################################################\n",
    "mu = torch.mean(ims_train, dim=(0,1,2))\n",
    "std = torch.std(ims_train, dim=(0,1,2))\n"
   ]
  },
  {
   "cell_type": "code",
   "execution_count": 35,
   "metadata": {},
   "outputs": [
    {
     "data": {
      "text/plain": [
       "tensor([0.4914, 0.4822, 0.4465])"
      ]
     },
     "execution_count": 35,
     "metadata": {},
     "output_type": "execute_result"
    }
   ],
   "source": [
    "torch.mean(ims_train, dim=(0,1,2))"
   ]
  },
  {
   "cell_type": "markdown",
   "metadata": {},
   "source": [
    "For CIFAR we want to make use of data augmentation to improve generalization. You will find all data augmentations data are included in torchvision here:\n",
    "\n",
    "https://pytorch.org/docs/stable/torchvision/transforms.html"
   ]
  },
  {
   "cell_type": "code",
   "execution_count": 36,
   "metadata": {},
   "outputs": [
    {
     "name": "stdout",
     "output_type": "stream",
     "text": [
      "Files already downloaded and verified\n",
      "Files already downloaded and verified\n"
     ]
    }
   ],
   "source": [
    "BATCH_SIZE = 128\n",
    "NUM_WORKERS = 4 # if you encounter some unexpected errors in data loading, try setting `NUM_WORKERS = 0`\n",
    "#########################################################################\n",
    "# TODO: Implement the proper transforms for the training and test dataloaders. \n",
    "# Then build train and test dataloaders with batch size 128 and 4 workers\n",
    "#\n",
    "# Train: \n",
    "# - Apply a random crop with size 32 on a padded version of the image with P=4\n",
    "# - Flip the image horizontally with a probability of 40 %\n",
    "# - Transform to a Tensor\n",
    "# - Normalize with the constants calculated above\n",
    "# Test: \n",
    "# - Transform to a Tensor\n",
    "# - Normalize with the constants calculated above\n",
    "#########################################################################\n",
    "transform_train = transforms.Compose([\n",
    "    transforms.RandomCrop(32, 4),\n",
    "    transforms.RandomHorizontalFlip(0.4),\n",
    "    transforms.ToTensor(),\n",
    "    transforms.Normalize(mu, std),\n",
    "])\n",
    "transform_test = transforms.Compose([\n",
    "    transforms.ToTensor(),\n",
    "    transforms.Normalize(mu, std),\n",
    "])\n",
    "\n",
    "ds_train = datasets.CIFAR10('./data', train=True, download=True, transform=transform_train)\n",
    "ds_test = datasets.CIFAR10('./data', train=False, download=True, transform=transform_test)\n",
    "\n",
    "dl_train = DataLoader(ds_train, batch_size=BATCH_SIZE, num_workers=NUM_WORKERS, shuffle=True)\n",
    "dl_test = DataLoader(ds_test, batch_size=BATCH_SIZE, num_workers=NUM_WORKERS, shuffle=False)"
   ]
  },
  {
   "cell_type": "markdown",
   "metadata": {},
   "source": [
    "Setting up the  optimizer, this time we use SGD. The scheduler adapts the learning rate during traing (you can ignore it)"
   ]
  },
  {
   "cell_type": "code",
   "execution_count": 37,
   "metadata": {},
   "outputs": [],
   "source": [
    "cnn = CNN()\n",
    "optimizer = optim.SGD(cnn.parameters(), lr=0.1, momentum=0.9, weight_decay=5e-4)\n",
    "scheduler = torch.optim.lr_scheduler.CosineAnnealingLR(optimizer, T_max=200)"
   ]
  },
  {
   "cell_type": "code",
   "execution_count": 38,
   "metadata": {
    "scrolled": true
   },
   "outputs": [
    {
     "ename": "RuntimeError",
     "evalue": "Given groups=1, weight of size [32, 1, 3, 3], expected input[128, 3, 32, 32] to have 1 channels, but got 3 channels instead",
     "output_type": "error",
     "traceback": [
      "\u001b[0;31m---------------------------------------------------------------------------\u001b[0m",
      "\u001b[0;31mRuntimeError\u001b[0m                              Traceback (most recent call last)",
      "Input \u001b[0;32mIn [38]\u001b[0m, in \u001b[0;36m<cell line: 2>\u001b[0;34m()\u001b[0m\n\u001b[1;32m      1\u001b[0m epochs \u001b[38;5;241m=\u001b[39m \u001b[38;5;241m5\u001b[39m\n\u001b[1;32m      2\u001b[0m \u001b[38;5;28;01mfor\u001b[39;00m epoch \u001b[38;5;129;01min\u001b[39;00m \u001b[38;5;28mrange\u001b[39m(\u001b[38;5;241m1\u001b[39m, epochs \u001b[38;5;241m+\u001b[39m \u001b[38;5;241m1\u001b[39m):\n\u001b[0;32m----> 3\u001b[0m     \u001b[43mtrain\u001b[49m\u001b[43m(\u001b[49m\u001b[43mcnn\u001b[49m\u001b[43m,\u001b[49m\u001b[43m \u001b[49m\u001b[43mdl_train\u001b[49m\u001b[43m,\u001b[49m\u001b[43m \u001b[49m\u001b[43moptimizer\u001b[49m\u001b[43m,\u001b[49m\u001b[43m \u001b[49m\u001b[43mepoch\u001b[49m\u001b[43m,\u001b[49m\u001b[43m \u001b[49m\u001b[43mlog_interval\u001b[49m\u001b[38;5;241;43m=\u001b[39;49m\u001b[38;5;241;43m100\u001b[39;49m\u001b[43m)\u001b[49m\n\u001b[1;32m      4\u001b[0m     test(cnn, dl_test)    \n\u001b[1;32m      5\u001b[0m     scheduler\u001b[38;5;241m.\u001b[39mstep()\n",
      "Input \u001b[0;32mIn [23]\u001b[0m, in \u001b[0;36mtrain\u001b[0;34m(model, dl_train, optimizer, epoch, log_interval, device)\u001b[0m\n\u001b[1;32m     14\u001b[0m optimizer\u001b[38;5;241m.\u001b[39mzero_grad()         \n\u001b[1;32m     16\u001b[0m \u001b[38;5;66;03m##### implement this part #####\u001b[39;00m\n\u001b[0;32m---> 17\u001b[0m output \u001b[38;5;241m=\u001b[39m \u001b[43mmodel\u001b[49m\u001b[38;5;241;43m.\u001b[39;49m\u001b[43mforward\u001b[49m\u001b[43m(\u001b[49m\u001b[43mdata\u001b[49m\u001b[43m)\u001b[49m\n\u001b[1;32m     18\u001b[0m loss \u001b[38;5;241m=\u001b[39m F\u001b[38;5;241m.\u001b[39mcross_entropy(output, target)\n\u001b[1;32m     19\u001b[0m loss\u001b[38;5;241m.\u001b[39mbackward()\n",
      "Input \u001b[0;32mIn [27]\u001b[0m, in \u001b[0;36mCNN.forward\u001b[0;34m(self, x)\u001b[0m\n\u001b[1;32m     15\u001b[0m \u001b[38;5;28;01mdef\u001b[39;00m \u001b[38;5;21mforward\u001b[39m(\u001b[38;5;28mself\u001b[39m, x):\n\u001b[1;32m     16\u001b[0m     \u001b[38;5;66;03m#x = torch.flatten(x, 1)\u001b[39;00m\n\u001b[0;32m---> 17\u001b[0m     \u001b[38;5;28;01mreturn\u001b[39;00m \u001b[38;5;28;43mself\u001b[39;49m\u001b[38;5;241;43m.\u001b[39;49m\u001b[43mmodel\u001b[49m\u001b[43m(\u001b[49m\u001b[43mx\u001b[49m\u001b[43m)\u001b[49m\n",
      "File \u001b[0;32m~/anaconda3/lib/python3.9/site-packages/torch/nn/modules/module.py:1130\u001b[0m, in \u001b[0;36mModule._call_impl\u001b[0;34m(self, *input, **kwargs)\u001b[0m\n\u001b[1;32m   1126\u001b[0m \u001b[38;5;66;03m# If we don't have any hooks, we want to skip the rest of the logic in\u001b[39;00m\n\u001b[1;32m   1127\u001b[0m \u001b[38;5;66;03m# this function, and just call forward.\u001b[39;00m\n\u001b[1;32m   1128\u001b[0m \u001b[38;5;28;01mif\u001b[39;00m \u001b[38;5;129;01mnot\u001b[39;00m (\u001b[38;5;28mself\u001b[39m\u001b[38;5;241m.\u001b[39m_backward_hooks \u001b[38;5;129;01mor\u001b[39;00m \u001b[38;5;28mself\u001b[39m\u001b[38;5;241m.\u001b[39m_forward_hooks \u001b[38;5;129;01mor\u001b[39;00m \u001b[38;5;28mself\u001b[39m\u001b[38;5;241m.\u001b[39m_forward_pre_hooks \u001b[38;5;129;01mor\u001b[39;00m _global_backward_hooks\n\u001b[1;32m   1129\u001b[0m         \u001b[38;5;129;01mor\u001b[39;00m _global_forward_hooks \u001b[38;5;129;01mor\u001b[39;00m _global_forward_pre_hooks):\n\u001b[0;32m-> 1130\u001b[0m     \u001b[38;5;28;01mreturn\u001b[39;00m \u001b[43mforward_call\u001b[49m\u001b[43m(\u001b[49m\u001b[38;5;241;43m*\u001b[39;49m\u001b[38;5;28;43minput\u001b[39;49m\u001b[43m,\u001b[49m\u001b[43m \u001b[49m\u001b[38;5;241;43m*\u001b[39;49m\u001b[38;5;241;43m*\u001b[39;49m\u001b[43mkwargs\u001b[49m\u001b[43m)\u001b[49m\n\u001b[1;32m   1131\u001b[0m \u001b[38;5;66;03m# Do not call functions when jit is used\u001b[39;00m\n\u001b[1;32m   1132\u001b[0m full_backward_hooks, non_full_backward_hooks \u001b[38;5;241m=\u001b[39m [], []\n",
      "File \u001b[0;32m~/anaconda3/lib/python3.9/site-packages/torch/nn/modules/container.py:139\u001b[0m, in \u001b[0;36mSequential.forward\u001b[0;34m(self, input)\u001b[0m\n\u001b[1;32m    137\u001b[0m \u001b[38;5;28;01mdef\u001b[39;00m \u001b[38;5;21mforward\u001b[39m(\u001b[38;5;28mself\u001b[39m, \u001b[38;5;28minput\u001b[39m):\n\u001b[1;32m    138\u001b[0m     \u001b[38;5;28;01mfor\u001b[39;00m module \u001b[38;5;129;01min\u001b[39;00m \u001b[38;5;28mself\u001b[39m:\n\u001b[0;32m--> 139\u001b[0m         \u001b[38;5;28minput\u001b[39m \u001b[38;5;241m=\u001b[39m \u001b[43mmodule\u001b[49m\u001b[43m(\u001b[49m\u001b[38;5;28;43minput\u001b[39;49m\u001b[43m)\u001b[49m\n\u001b[1;32m    140\u001b[0m     \u001b[38;5;28;01mreturn\u001b[39;00m \u001b[38;5;28minput\u001b[39m\n",
      "File \u001b[0;32m~/anaconda3/lib/python3.9/site-packages/torch/nn/modules/module.py:1130\u001b[0m, in \u001b[0;36mModule._call_impl\u001b[0;34m(self, *input, **kwargs)\u001b[0m\n\u001b[1;32m   1126\u001b[0m \u001b[38;5;66;03m# If we don't have any hooks, we want to skip the rest of the logic in\u001b[39;00m\n\u001b[1;32m   1127\u001b[0m \u001b[38;5;66;03m# this function, and just call forward.\u001b[39;00m\n\u001b[1;32m   1128\u001b[0m \u001b[38;5;28;01mif\u001b[39;00m \u001b[38;5;129;01mnot\u001b[39;00m (\u001b[38;5;28mself\u001b[39m\u001b[38;5;241m.\u001b[39m_backward_hooks \u001b[38;5;129;01mor\u001b[39;00m \u001b[38;5;28mself\u001b[39m\u001b[38;5;241m.\u001b[39m_forward_hooks \u001b[38;5;129;01mor\u001b[39;00m \u001b[38;5;28mself\u001b[39m\u001b[38;5;241m.\u001b[39m_forward_pre_hooks \u001b[38;5;129;01mor\u001b[39;00m _global_backward_hooks\n\u001b[1;32m   1129\u001b[0m         \u001b[38;5;129;01mor\u001b[39;00m _global_forward_hooks \u001b[38;5;129;01mor\u001b[39;00m _global_forward_pre_hooks):\n\u001b[0;32m-> 1130\u001b[0m     \u001b[38;5;28;01mreturn\u001b[39;00m \u001b[43mforward_call\u001b[49m\u001b[43m(\u001b[49m\u001b[38;5;241;43m*\u001b[39;49m\u001b[38;5;28;43minput\u001b[39;49m\u001b[43m,\u001b[49m\u001b[43m \u001b[49m\u001b[38;5;241;43m*\u001b[39;49m\u001b[38;5;241;43m*\u001b[39;49m\u001b[43mkwargs\u001b[49m\u001b[43m)\u001b[49m\n\u001b[1;32m   1131\u001b[0m \u001b[38;5;66;03m# Do not call functions when jit is used\u001b[39;00m\n\u001b[1;32m   1132\u001b[0m full_backward_hooks, non_full_backward_hooks \u001b[38;5;241m=\u001b[39m [], []\n",
      "File \u001b[0;32m~/anaconda3/lib/python3.9/site-packages/torch/nn/modules/conv.py:457\u001b[0m, in \u001b[0;36mConv2d.forward\u001b[0;34m(self, input)\u001b[0m\n\u001b[1;32m    456\u001b[0m \u001b[38;5;28;01mdef\u001b[39;00m \u001b[38;5;21mforward\u001b[39m(\u001b[38;5;28mself\u001b[39m, \u001b[38;5;28minput\u001b[39m: Tensor) \u001b[38;5;241m-\u001b[39m\u001b[38;5;241m>\u001b[39m Tensor:\n\u001b[0;32m--> 457\u001b[0m     \u001b[38;5;28;01mreturn\u001b[39;00m \u001b[38;5;28;43mself\u001b[39;49m\u001b[38;5;241;43m.\u001b[39;49m\u001b[43m_conv_forward\u001b[49m\u001b[43m(\u001b[49m\u001b[38;5;28;43minput\u001b[39;49m\u001b[43m,\u001b[49m\u001b[43m \u001b[49m\u001b[38;5;28;43mself\u001b[39;49m\u001b[38;5;241;43m.\u001b[39;49m\u001b[43mweight\u001b[49m\u001b[43m,\u001b[49m\u001b[43m \u001b[49m\u001b[38;5;28;43mself\u001b[39;49m\u001b[38;5;241;43m.\u001b[39;49m\u001b[43mbias\u001b[49m\u001b[43m)\u001b[49m\n",
      "File \u001b[0;32m~/anaconda3/lib/python3.9/site-packages/torch/nn/modules/conv.py:453\u001b[0m, in \u001b[0;36mConv2d._conv_forward\u001b[0;34m(self, input, weight, bias)\u001b[0m\n\u001b[1;32m    449\u001b[0m \u001b[38;5;28;01mif\u001b[39;00m \u001b[38;5;28mself\u001b[39m\u001b[38;5;241m.\u001b[39mpadding_mode \u001b[38;5;241m!=\u001b[39m \u001b[38;5;124m'\u001b[39m\u001b[38;5;124mzeros\u001b[39m\u001b[38;5;124m'\u001b[39m:\n\u001b[1;32m    450\u001b[0m     \u001b[38;5;28;01mreturn\u001b[39;00m F\u001b[38;5;241m.\u001b[39mconv2d(F\u001b[38;5;241m.\u001b[39mpad(\u001b[38;5;28minput\u001b[39m, \u001b[38;5;28mself\u001b[39m\u001b[38;5;241m.\u001b[39m_reversed_padding_repeated_twice, mode\u001b[38;5;241m=\u001b[39m\u001b[38;5;28mself\u001b[39m\u001b[38;5;241m.\u001b[39mpadding_mode),\n\u001b[1;32m    451\u001b[0m                     weight, bias, \u001b[38;5;28mself\u001b[39m\u001b[38;5;241m.\u001b[39mstride,\n\u001b[1;32m    452\u001b[0m                     _pair(\u001b[38;5;241m0\u001b[39m), \u001b[38;5;28mself\u001b[39m\u001b[38;5;241m.\u001b[39mdilation, \u001b[38;5;28mself\u001b[39m\u001b[38;5;241m.\u001b[39mgroups)\n\u001b[0;32m--> 453\u001b[0m \u001b[38;5;28;01mreturn\u001b[39;00m \u001b[43mF\u001b[49m\u001b[38;5;241;43m.\u001b[39;49m\u001b[43mconv2d\u001b[49m\u001b[43m(\u001b[49m\u001b[38;5;28;43minput\u001b[39;49m\u001b[43m,\u001b[49m\u001b[43m \u001b[49m\u001b[43mweight\u001b[49m\u001b[43m,\u001b[49m\u001b[43m \u001b[49m\u001b[43mbias\u001b[49m\u001b[43m,\u001b[49m\u001b[43m \u001b[49m\u001b[38;5;28;43mself\u001b[39;49m\u001b[38;5;241;43m.\u001b[39;49m\u001b[43mstride\u001b[49m\u001b[43m,\u001b[49m\n\u001b[1;32m    454\u001b[0m \u001b[43m                \u001b[49m\u001b[38;5;28;43mself\u001b[39;49m\u001b[38;5;241;43m.\u001b[39;49m\u001b[43mpadding\u001b[49m\u001b[43m,\u001b[49m\u001b[43m \u001b[49m\u001b[38;5;28;43mself\u001b[39;49m\u001b[38;5;241;43m.\u001b[39;49m\u001b[43mdilation\u001b[49m\u001b[43m,\u001b[49m\u001b[43m \u001b[49m\u001b[38;5;28;43mself\u001b[39;49m\u001b[38;5;241;43m.\u001b[39;49m\u001b[43mgroups\u001b[49m\u001b[43m)\u001b[49m\n",
      "\u001b[0;31mRuntimeError\u001b[0m: Given groups=1, weight of size [32, 1, 3, 3], expected input[128, 3, 32, 32] to have 1 channels, but got 3 channels instead"
     ]
    }
   ],
   "source": [
    "epochs = 5\n",
    "for epoch in range(1, epochs + 1):\n",
    "    train(cnn, dl_train, optimizer, epoch, log_interval=100)\n",
    "    test(cnn, dl_test)    \n",
    "    scheduler.step()"
   ]
  },
  {
   "cell_type": "markdown",
   "metadata": {},
   "source": [
    "This will not work. You should see the following error message\n",
    "\n",
    "```\n",
    "Given groups=1, weight of size [32, 1, 3, 3], expected input[128, 3, 32, 32] to have 1 channels, but got 3 channels instead\n",
    "```\n",
    "\n",
    "This error is telling us that something is not right in the definition of our model. Copy the CNN class from above and make changes, so the training works."
   ]
  },
  {
   "cell_type": "code",
   "execution_count": 39,
   "metadata": {},
   "outputs": [],
   "source": [
    "#########################################################################\n",
    "# TODO: Adapt the definition from the CNN class above to work on CIFAR.\n",
    "# You can copy and run the following prompt for evaluation:\n",
    "# CNN()(torch.randn(1,3,32,32)).shape\n",
    "# It should print 'torch.Size([1, 10])'\n",
    "# Hint: You need to change 2 things. \n",
    "#########################################################################\n",
    "\n",
    "class CNN(nn.Module):\n",
    "    def __init__(self):\n",
    "        super(CNN, self).__init__()\n",
    "        self.model = nn.Sequential(nn.Conv2d(3, 32, 3, 1, 0), nn.ReLU(), \\\n",
    "                                   nn.Conv2d(32, 64, 3, 1, 0), nn.ReLU(), \\\n",
    "                                   nn.MaxPool2d(2, 2, 0), nn.Dropout(0.25), \\\n",
    "                                   nn.Flatten(), nn.Linear(12544, 128), nn.ReLU(), \\\n",
    "                                   nn.Dropout(0.5), nn.Linear(128,10))\n",
    "    def forward(self, x):\n",
    "        #x = torch.flatten(x, 1)\n",
    "        return self.model(x)"
   ]
  },
  {
   "cell_type": "markdown",
   "metadata": {},
   "source": [
    "Let's try again"
   ]
  },
  {
   "cell_type": "code",
   "execution_count": 40,
   "metadata": {
    "scrolled": true
   },
   "outputs": [
    {
     "name": "stdout",
     "output_type": "stream",
     "text": [
      "Train Epoch: 1 [0/50000 (0%)]\tLoss: 2.310475\n",
      "Train Epoch: 1 [12800/50000 (26%)]\tLoss: 2.274994\n",
      "Train Epoch: 1 [25600/50000 (51%)]\tLoss: 2.104172\n",
      "Train Epoch: 1 [38400/50000 (77%)]\tLoss: 2.001589\n",
      "\n",
      "Train set: Average loss: 1.9547, Accuracy: 9962/50000 (19.9%)\n",
      "\n",
      "\n",
      "Test set: Average loss: 1.8738, Accuracy: 2830/10000 (28.300%)\n",
      "\n",
      "Train Epoch: 2 [0/50000 (0%)]\tLoss: 2.111769\n",
      "Train Epoch: 2 [12800/50000 (26%)]\tLoss: 1.977497\n",
      "Train Epoch: 2 [25600/50000 (51%)]\tLoss: 1.903890\n",
      "Train Epoch: 2 [38400/50000 (77%)]\tLoss: 1.936964\n",
      "\n",
      "Train set: Average loss: 1.9311, Accuracy: 13432/50000 (26.9%)\n",
      "\n",
      "\n",
      "Test set: Average loss: 1.7793, Accuracy: 3299/10000 (32.990%)\n",
      "\n",
      "Train Epoch: 3 [0/50000 (0%)]\tLoss: 1.859786\n",
      "Train Epoch: 3 [12800/50000 (26%)]\tLoss: 1.918123\n",
      "Train Epoch: 3 [25600/50000 (51%)]\tLoss: 1.944368\n",
      "Train Epoch: 3 [38400/50000 (77%)]\tLoss: 1.715811\n",
      "\n",
      "Train set: Average loss: 1.9303, Accuracy: 14543/50000 (29.1%)\n",
      "\n",
      "\n",
      "Test set: Average loss: 1.8299, Accuracy: 3220/10000 (32.200%)\n",
      "\n",
      "Train Epoch: 4 [0/50000 (0%)]\tLoss: 2.148939\n",
      "Train Epoch: 4 [12800/50000 (26%)]\tLoss: 1.846721\n",
      "Train Epoch: 4 [25600/50000 (51%)]\tLoss: 1.822822\n",
      "Train Epoch: 4 [38400/50000 (77%)]\tLoss: 1.865110\n",
      "\n",
      "Train set: Average loss: 1.7323, Accuracy: 16011/50000 (32.0%)\n",
      "\n",
      "\n",
      "Test set: Average loss: 1.5571, Accuracy: 4124/10000 (41.240%)\n",
      "\n",
      "Train Epoch: 5 [0/50000 (0%)]\tLoss: 1.672202\n",
      "Train Epoch: 5 [12800/50000 (26%)]\tLoss: 1.818345\n",
      "Train Epoch: 5 [25600/50000 (51%)]\tLoss: 1.700504\n",
      "Train Epoch: 5 [38400/50000 (77%)]\tLoss: 1.815089\n",
      "\n",
      "Train set: Average loss: 2.0946, Accuracy: 17517/50000 (35.0%)\n",
      "\n",
      "\n",
      "Test set: Average loss: 1.6573, Accuracy: 3881/10000 (38.810%)\n",
      "\n",
      "Train Epoch: 6 [0/50000 (0%)]\tLoss: 1.789982\n",
      "Train Epoch: 6 [12800/50000 (26%)]\tLoss: 1.794908\n",
      "Train Epoch: 6 [25600/50000 (51%)]\tLoss: 1.755555\n",
      "Train Epoch: 6 [38400/50000 (77%)]\tLoss: 1.674877\n",
      "\n",
      "Train set: Average loss: 1.6234, Accuracy: 18185/50000 (36.4%)\n",
      "\n",
      "\n",
      "Test set: Average loss: 1.4203, Accuracy: 4825/10000 (48.250%)\n",
      "\n",
      "Train Epoch: 7 [0/50000 (0%)]\tLoss: 1.563256\n",
      "Train Epoch: 7 [12800/50000 (26%)]\tLoss: 1.552130\n",
      "Train Epoch: 7 [25600/50000 (51%)]\tLoss: 1.733032\n",
      "Train Epoch: 7 [38400/50000 (77%)]\tLoss: 1.731322\n",
      "\n",
      "Train set: Average loss: 1.5723, Accuracy: 18205/50000 (36.4%)\n",
      "\n",
      "\n",
      "Test set: Average loss: 1.5532, Accuracy: 4388/10000 (43.880%)\n",
      "\n",
      "Train Epoch: 8 [0/50000 (0%)]\tLoss: 1.662758\n",
      "Train Epoch: 8 [12800/50000 (26%)]\tLoss: 1.768208\n",
      "Train Epoch: 8 [25600/50000 (51%)]\tLoss: 1.747639\n",
      "Train Epoch: 8 [38400/50000 (77%)]\tLoss: 1.468626\n",
      "\n",
      "Train set: Average loss: 1.9474, Accuracy: 18537/50000 (37.1%)\n",
      "\n",
      "\n",
      "Test set: Average loss: 1.5643, Accuracy: 4384/10000 (43.840%)\n",
      "\n",
      "Train Epoch: 9 [0/50000 (0%)]\tLoss: 1.627379\n",
      "Train Epoch: 9 [12800/50000 (26%)]\tLoss: 1.550193\n",
      "Train Epoch: 9 [25600/50000 (51%)]\tLoss: 1.596742\n",
      "Train Epoch: 9 [38400/50000 (77%)]\tLoss: 1.585784\n",
      "\n",
      "Train set: Average loss: 1.4513, Accuracy: 19201/50000 (38.4%)\n",
      "\n",
      "\n",
      "Test set: Average loss: 1.4193, Accuracy: 4847/10000 (48.470%)\n",
      "\n",
      "Train Epoch: 10 [0/50000 (0%)]\tLoss: 1.736950\n",
      "Train Epoch: 10 [12800/50000 (26%)]\tLoss: 1.705614\n",
      "Train Epoch: 10 [25600/50000 (51%)]\tLoss: 1.834225\n",
      "Train Epoch: 10 [38400/50000 (77%)]\tLoss: 1.497928\n",
      "\n",
      "Train set: Average loss: 1.5633, Accuracy: 19113/50000 (38.2%)\n",
      "\n",
      "\n",
      "Test set: Average loss: 1.4611, Accuracy: 4705/10000 (47.050%)\n",
      "\n"
     ]
    }
   ],
   "source": [
    "cnn = CNN()\n",
    "optimizer = optim.SGD(cnn.parameters(), lr=0.1, momentum=0.9, weight_decay=5e-4)\n",
    "scheduler = torch.optim.lr_scheduler.CosineAnnealingLR(optimizer, T_max=200)\n",
    "\n",
    "epochs = 10\n",
    "for epoch in range(1, epochs + 1):\n",
    "    train(cnn, dl_train, optimizer, epoch, log_interval=100)\n",
    "    test(cnn, dl_test)    \n",
    "    scheduler.step()"
   ]
  },
  {
   "cell_type": "markdown",
   "metadata": {},
   "source": [
    "This should give 40 - 50 % - and if you are not already on Colab it will give you a stressed out laptop. The performance is a lot better than random, but we can definitely do better."
   ]
  },
  {
   "cell_type": "markdown",
   "metadata": {},
   "source": [
    "### Have fun with GPUs\n",
    "You can already call it a day until this point because we won't grade the rest of the excecise. You can have more fun with the rest :)\n"
   ]
  },
  {
   "cell_type": "markdown",
   "metadata": {},
   "source": [
    "\n",
    "If you didn't already, move to colab. To use a GPU, follow on the collaboratory menu tabs, \"Runtime\" => \"Change runtime type\" and set it to GPU. Then run the same training loop but now on GPU. \n",
    "\n",
    "It as easy as:"
   ]
  },
  {
   "cell_type": "code",
   "execution_count": null,
   "metadata": {},
   "outputs": [],
   "source": [
    "device = 'cuda'\n",
    "if device == 'cuda': torch.backends.cudnn.benchmark = True # additional speed up\n",
    "\n",
    "cnn = CNN()\n",
    "optimizer = optim.SGD(cnn.parameters(), lr=0.1, momentum=0.9, weight_decay=5e-4)\n",
    "scheduler = torch.optim.lr_scheduler.CosineAnnealingLR(optimizer, T_max=200)\n",
    "cnn = cnn.to(device)\n",
    "\n",
    "epochs = 10\n",
    "for epoch in range(1, epochs + 1):\n",
    "    train(cnn, dl_train, optimizer, epoch, log_interval=100, device=device)\n",
    "    test(cnn, dl_test, device=device)    \n",
    "    scheduler.step()"
   ]
  },
  {
   "cell_type": "markdown",
   "metadata": {},
   "source": [
    "This should be way faster now. But the true advantage of the GPU is that we can use much bigger models now and still train them in a reasonable amount of time. PyTorch is again very handy. The torchvision library comes with varies state-of-the-art model architectures, some of which you have seen in the lecture."
   ]
  },
  {
   "cell_type": "code",
   "execution_count": null,
   "metadata": {},
   "outputs": [],
   "source": [
    "from torchvision.models import resnet18"
   ]
  },
  {
   "cell_type": "code",
   "execution_count": null,
   "metadata": {
    "scrolled": true
   },
   "outputs": [],
   "source": [
    "cnn = resnet18()\n",
    "print(cnn)"
   ]
  },
  {
   "cell_type": "markdown",
   "metadata": {},
   "source": [
    "Looks scary! But the only thing you need to change to make it work on CIFAR is the last layer.\n",
    "Currently the last layer is:\n",
    "```\n",
    "  (fc): Linear(in_features=512, out_features=1000, bias=True)\n",
    "```\n",
    "out_features is the number of classes. This models are developed for Imagenet, a dataset with 1000 classes. So this part of the model you need to adapt. Additionally, you need to add a log-softmax layer again, as we us negative log-likelihood as the training criterion. "
   ]
  },
  {
   "cell_type": "code",
   "execution_count": null,
   "metadata": {},
   "outputs": [],
   "source": [
    "#########################################################################\n",
    "# TODO: Adapt the Resnet to work on CIFAR\n",
    "#########################################################################\n"
   ]
  },
  {
   "cell_type": "code",
   "execution_count": null,
   "metadata": {},
   "outputs": [],
   "source": [
    "# This should print 'torch.Size([16, 10])'\n",
    "cnn(torch.randn(16,3,32,32)).shape"
   ]
  },
  {
   "cell_type": "code",
   "execution_count": null,
   "metadata": {},
   "outputs": [],
   "source": [
    "device = 'cuda'\n",
    "if device == 'cuda': torch.backends.cudnn.benchmark = True # this gives us additional speed up\n",
    "\n",
    "optimizer = optim.SGD(cnn.parameters(), lr=0.1, momentum=0.9, weight_decay=5e-4)\n",
    "scheduler = torch.optim.lr_scheduler.CosineAnnealingLR(optimizer, T_max=200)\n",
    "cnn = cnn.to(device)\n",
    "\n",
    "epochs = 50\n",
    "for epoch in range(1, epochs + 1):\n",
    "    train(cnn, dl_train, optimizer, epoch, log_interval=100, device=device)\n",
    "    test(cnn, dl_test, device=device)    \n",
    "    scheduler.step()"
   ]
  },
  {
   "cell_type": "markdown",
   "metadata": {},
   "source": [
    "This should get us well above 75%, the best we got was ~ 80%.\n",
    "\n",
    "Now, use different torchvision architectures, different optimizers (Adam is always a good choice), data augmentation techniques, and hyperparameter search to achieve a test accuracy of >90 %"
   ]
  },
  {
   "cell_type": "code",
   "execution_count": null,
   "metadata": {},
   "outputs": [],
   "source": []
  }
 ],
 "metadata": {
  "kernelspec": {
   "display_name": "Python 3 (ipykernel)",
   "language": "python",
   "name": "python3"
  },
  "language_info": {
   "codemirror_mode": {
    "name": "ipython",
    "version": 3
   },
   "file_extension": ".py",
   "mimetype": "text/x-python",
   "name": "python",
   "nbconvert_exporter": "python",
   "pygments_lexer": "ipython3",
   "version": "3.10.6"
  },
  "vscode": {
   "interpreter": {
    "hash": "d268b61a0efacafa8645774cb6d0204c9f01d7563ef03f7672146d044e8f345c"
   }
  }
 },
 "nbformat": 4,
 "nbformat_minor": 4
}
