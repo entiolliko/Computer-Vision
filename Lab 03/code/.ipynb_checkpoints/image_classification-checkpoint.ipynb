{
 "cells": [
  {
   "cell_type": "markdown",
   "metadata": {},
   "source": [
    "# Image Classification with PyTorch"
   ]
  },
  {
   "cell_type": "markdown",
   "metadata": {},
   "source": [
    "## Data loading\n"
   ]
  },
  {
   "cell_type": "code",
   "execution_count": 1,
   "metadata": {},
   "outputs": [],
   "source": [
    "import numpy as np\n",
    "import matplotlib.pyplot as plt\n",
    "\n",
    "import torch\n",
    "import torch.nn as nn\n",
    "import torch.nn.functional as F\n",
    "import torch.optim as optim\n",
    "from torch.utils.data import DataLoader\n",
    "import torchvision\n",
    "from torchvision import datasets, transforms"
   ]
  },
  {
   "cell_type": "code",
   "execution_count": 2,
   "metadata": {},
   "outputs": [],
   "source": [
    "# torchvision contains convinience functions for popular datasets\n",
    "ds_train = datasets.MNIST('data', train=True, download=True)"
   ]
  },
  {
   "cell_type": "markdown",
   "metadata": {},
   "source": [
    "Each sample is a 28x28 image"
   ]
  },
  {
   "cell_type": "code",
   "execution_count": 3,
   "metadata": {},
   "outputs": [
    {
     "name": "stdout",
     "output_type": "stream",
     "text": [
      "(<PIL.Image.Image image mode=L size=28x28 at 0x7FBD247482E0>, 5)\n"
     ]
    },
    {
     "data": {
      "image/png": "[encoded data removed]",
      "text/plain": [
       "<PIL.Image.Image image mode=L size=120x120 at 0x7FBD2475CF40>"
      ]
     },
     "execution_count": 3,
     "metadata": {},
     "output_type": "execute_result"
    }
   ],
   "source": [
    "# if we index this dataset, we get a single data point: a PIL image and an Integer\n",
    "print(ds_train[0])\n",
    "ds_train[0][0].resize((120,120))"
   ]
  },
  {
   "cell_type": "markdown",
   "metadata": {},
   "source": [
    "Let's transform the data to something that our Pytorch models will understand\n",
    "for this purpose, we can supply a transform function to the datase"
   ]
  },
  {
   "cell_type": "code",
   "execution_count": 4,
   "metadata": {},
   "outputs": [],
   "source": [
    "transform = transforms.Compose([\n",
    "    transforms.ToTensor(),\n",
    "])\n",
    "ds_train = datasets.MNIST('data', train=True, download=True, transform=transform)"
   ]
  },
  {
   "cell_type": "markdown",
   "metadata": {},
   "source": [
    "The image is now a `torch.Tensor`"
   ]
  },
  {
   "cell_type": "code",
   "execution_count": 5,
   "metadata": {},
   "outputs": [
    {
     "data": {
      "text/plain": [
       "torch.Tensor"
      ]
     },
     "execution_count": 5,
     "metadata": {},
     "output_type": "execute_result"
    }
   ],
   "source": [
    "type(ds_train[0][0])"
   ]
  },
  {
   "cell_type": "markdown",
   "metadata": {},
   "source": [
    "The normalization is something you learned about in the lecture. Normalizing with $\\mu=0, \\sigma=1$ corresponds to no normalization. Let's compute the proper normalization constants!"
   ]
  },
  {
   "cell_type": "code",
   "execution_count": 6,
   "metadata": {},
   "outputs": [],
   "source": [
    "# lets get only the images \n",
    "ims_train = ds_train.data\n",
    "ims_train = ims_train.float() / 255."
   ]
  },
  {
   "cell_type": "code",
   "execution_count": 119,
   "metadata": {},
   "outputs": [
    {
     "name": "stdout",
     "output_type": "stream",
     "text": [
      "torch.Size([3])\n"
     ]
    }
   ],
   "source": [
    "#########################################################################\n",
    "# TODO: calculate the mean and std of MNIST images\n",
    "# hint: to look for operations on pytorch tensor, refer to the official PyTorch docs \n",
    "# https://pytorch.org/docs/stable/\n",
    "#########################################################################\n",
    "mu = torch.mean(ims_train, dim=(0, 1, 2))\n",
    "std = torch.mean(ims_train, dim=(0, 1, 2))"
   ]
  },
  {
   "cell_type": "markdown",
   "metadata": {},
   "source": [
    "We normalize the data as below."
   ]
  },
  {
   "cell_type": "code",
   "execution_count": 15,
   "metadata": {},
   "outputs": [],
   "source": [
    "transform = transforms.Compose([\n",
    "    transforms.ToTensor(),\n",
    "    transforms.Normalize(mu, std)\n",
    "])\n",
    "ds_train = datasets.MNIST('data', train=True, download=True, transform=transform)\n",
    "ds_test = datasets.MNIST('data', train=False, download=True, transform=transform)"
   ]
  },
  {
   "cell_type": "code",
   "execution_count": 16,
   "metadata": {},
   "outputs": [
    {
     "data": {
      "text/plain": [
       "(tensor(-1.), tensor(6.6534))"
      ]
     },
     "execution_count": 16,
     "metadata": {},
     "output_type": "execute_result"
    }
   ],
   "source": [
    "ds_train[0][0].min(), ds_train[0][0].max()"
   ]
  },
  {
   "cell_type": "markdown",
   "metadata": {},
   "source": [
    "Next, we want to receive mini-batches, not only single data points.\n",
    "We use PyTorch's DataLoader class. Build a dataloader with a batch size of 64 and 4 workers (number of subprocess that peform the dataloading). Important: you need to shuffle the training data, not the test data.\n",
    "\n",
    "**NOTE**: if you encounter some unexpected errors in data loading, try setting `NUM_WORKERS = 0`"
   ]
  },
  {
   "cell_type": "code",
   "execution_count": 17,
   "metadata": {},
   "outputs": [],
   "source": [
    "BATCH_SIZE = 64\n",
    "NUM_WORKERS = 4\n",
    "#########################################################################\n",
    "# TODO: Build a dataloader for both train and test data.\n",
    "#########################################################################\n",
    "dl_train = DataLoader(\n",
    "    ds_train,\n",
    "    batch_size=BATCH_SIZE,\n",
    "    num_workers=NUM_WORKERS,\n",
    "    shuffle=True\n",
    ")\n",
    "dl_test = DataLoader(\n",
    "    ds_test,\n",
    "    batch_size=BATCH_SIZE,\n",
    "    num_workers=NUM_WORKERS,\n",
    "    shuffle=False\n",
    ")"
   ]
  },
  {
   "cell_type": "markdown",
   "metadata": {},
   "source": [
    "## MLP in Pytorch\n",
    "\n",
    "Ok, the dataloading works. Let's build our model, PyTorch makes this very easy. We will build replicate the model from our last exercises. However, now, we add another variable called `nLayer` that indicates how many linear layers that in your network. Please adapt your code from last exercise accordingly to allow different number of layers."
   ]
  },
  {
   "cell_type": "code",
   "execution_count": 18,
   "metadata": {},
   "outputs": [],
   "source": [
    "# These are the parameters to be used\n",
    "nInput = 784\n",
    "nOutput = 10\n",
    "nLayer = 2\n",
    "nHidden = 16\n",
    "act_fn = nn.ReLU()"
   ]
  },
  {
   "cell_type": "code",
   "execution_count": 64,
   "metadata": {},
   "outputs": [],
   "source": [
    "#########################################################################\n",
    "# TODO: Implement the __init__ of the MLP class. \n",
    "# insert the activation after every linear layer. Important: the number of \n",
    "# hidden layers should be variable!\n",
    "#########################################################################\n",
    "\n",
    "class MLP(nn.Module):\n",
    "    def __init__(self, nInput, nOutput, nLayer, nHidden, act_fn):\n",
    "        super(MLP, self).__init__()\n",
    "        layers = [] \n",
    "        \n",
    "        ##### implement this part #####\n",
    "        layers.append(nn.Linear(nInput, nHidden))\n",
    "        layers.append(act_fn)\n",
    "        for i in range(1, nLayer):\n",
    "            layers.append(nn.Linear(nHidden, nHidden))\n",
    "            layers.append(act_fn)\n",
    "        layers.append(nn.Linear(nHidden, nOutput))\n",
    "        layers.append(act_fn) #Got good result with and without the final activation function\n",
    "        ###############################\n",
    "        \n",
    "        self.model = nn.Sequential(*layers)\n",
    "\n",
    "    def forward(self, x):\n",
    "        x = torch.flatten(x, 1)\n",
    "        x = self.model(x)\n",
    "        return x"
   ]
  },
  {
   "cell_type": "code",
   "execution_count": 65,
   "metadata": {
    "scrolled": true
   },
   "outputs": [
    {
     "data": {
      "text/plain": [
       "torch.Size([1, 10])"
      ]
     },
     "execution_count": 65,
     "metadata": {},
     "output_type": "execute_result"
    }
   ],
   "source": [
    "# Let's test if the forward pass works\n",
    "# this should print torch.Size([1, 10])\n",
    "t = torch.randn(1,1,28,28)\n",
    "mlp = MLP(nInput, nOutput, nLayer, nHidden, act_fn)\n",
    "mlp(t).shape"
   ]
  },
  {
   "cell_type": "code",
   "execution_count": 66,
   "metadata": {},
   "outputs": [
    {
     "data": {
      "text/plain": [
       "MLP(\n",
       "  (model): Sequential(\n",
       "    (0): Linear(in_features=784, out_features=30, bias=True)\n",
       "    (1): LogSigmoid()\n",
       "    (2): Linear(in_features=30, out_features=30, bias=True)\n",
       "    (3): LogSigmoid()\n",
       "    (4): Linear(in_features=30, out_features=30, bias=True)\n",
       "    (5): LogSigmoid()\n",
       "    (6): Linear(in_features=30, out_features=30, bias=True)\n",
       "    (7): LogSigmoid()\n",
       "    (8): Linear(in_features=30, out_features=30, bias=True)\n",
       "    (9): LogSigmoid()\n",
       "    (10): Linear(in_features=30, out_features=10, bias=True)\n",
       "    (11): LogSigmoid()\n",
       "  )\n",
       ")"
      ]
     },
     "execution_count": 66,
     "metadata": {},
     "output_type": "execute_result"
    }
   ],
   "source": [
    "mlp"
   ]
  },
  {
   "cell_type": "markdown",
   "metadata": {},
   "source": [
    "We already implemented the test function for you"
   ]
  },
  {
   "cell_type": "code",
   "execution_count": 67,
   "metadata": {},
   "outputs": [],
   "source": [
    "def test(model, dl_test, device='cpu'):\n",
    "    model.eval()\n",
    "    test_loss = 0\n",
    "    correct = 0\n",
    "    with torch.no_grad():\n",
    "        for data, target in dl_test:\n",
    "            data, target = data.to(device), target.to(device)\n",
    "            output = model(data)\n",
    "            test_loss += F.cross_entropy(output, target, reduction='sum').item()  # sum up batch loss\n",
    "            pred = output.argmax(dim=1, keepdim=True)  # get the index of the max log-probability\n",
    "            correct += pred.eq(target.view_as(pred)).sum().item()\n",
    "\n",
    "    test_loss /= len(dl_test.dataset)\n",
    "\n",
    "    print('\\nTest set: Average loss: {:.4f}, Accuracy: {}/{} ({:.3f}%)\\n'.format(\n",
    "        test_loss, correct, len(dl_test.dataset),\n",
    "        100. * correct / len(dl_test.dataset)))"
   ]
  },
  {
   "cell_type": "markdown",
   "metadata": {},
   "source": [
    "Now you only need to implement the training and you are good to go"
   ]
  },
  {
   "cell_type": "code",
   "execution_count": 68,
   "metadata": {},
   "outputs": [],
   "source": [
    "#########################################################################\n",
    "# TODO: Implement the missing part of the training function. As a loss function we want to use cross entropy\n",
    "# It can be called with F.cross_entropy().\n",
    "# Hint: Pass through the model -> Backpropagate gradients -> Take gradient step\n",
    "#########################################################################\n",
    "\n",
    "def train(model, dl_train, optimizer, epoch, log_interval=100, device='cpu'):\n",
    "    model.train()\n",
    "    correct = 0\n",
    "    for batch_idx, (data, target) in enumerate(dl_train):\n",
    "        data, target = data.to(device), target.to(device)\n",
    "        \n",
    "        # first we need to zero the gradient, otherwise PyTorch would accumulate them\n",
    "        optimizer.zero_grad()         \n",
    "        \n",
    "        ##### implement this part #####\n",
    "        output = model.forward(data)\n",
    "        loss = F.cross_entropy(output, target)\n",
    "        loss.backward()\n",
    "        optimizer.step()\n",
    "        ###############################\n",
    "\n",
    "        # stats\n",
    "        pred = output.argmax(dim=1, keepdim=True)  # get the index of the max log-probability\n",
    "        correct += pred.eq(target.view_as(pred)).sum().item()\n",
    "\n",
    "        if batch_idx % log_interval == 0:\n",
    "            print('Train Epoch: {} [{}/{} ({:.0f}%)]\\tLoss: {:.6f}'.format(\n",
    "                epoch, batch_idx * len(data), len(dl_train.dataset),\n",
    "                100. * batch_idx / len(dl_train), loss.item()))\n",
    "\n",
    "    print('\\nTrain set: Average loss: {:.4f}, Accuracy: {}/{} ({:.1f}%)\\n'.format(\n",
    "        loss, correct, len(dl_train.dataset),\n",
    "        100. * correct / len(dl_train.dataset)))"
   ]
  },
  {
   "cell_type": "markdown",
   "metadata": {},
   "source": [
    "Ok, the setup is almost done. The onoly missing part is the optimizer. We are going to use Adam."
   ]
  },
  {
   "cell_type": "code",
   "execution_count": 69,
   "metadata": {},
   "outputs": [],
   "source": [
    "# reinitialize the mlp, so we can play with parameters right here\n",
    "mlp = MLP(nInput, nOutput, nLayer, nHidden, act_fn)\n",
    "optimizer = optim.Adam(mlp.parameters())"
   ]
  },
  {
   "cell_type": "code",
   "execution_count": 71,
   "metadata": {
    "scrolled": true
   },
   "outputs": [
    {
     "name": "stdout",
     "output_type": "stream",
     "text": [
      "Train Epoch: 1 [0/60000 (0%)]\tLoss: 0.058480\n",
      "Train Epoch: 1 [6400/60000 (11%)]\tLoss: 0.149051\n",
      "Train Epoch: 1 [12800/60000 (21%)]\tLoss: 0.105757\n",
      "Train Epoch: 1 [19200/60000 (32%)]\tLoss: 0.017445\n",
      "Train Epoch: 1 [25600/60000 (43%)]\tLoss: 0.007568\n",
      "Train Epoch: 1 [32000/60000 (53%)]\tLoss: 0.054293\n",
      "Train Epoch: 1 [38400/60000 (64%)]\tLoss: 0.083301\n",
      "Train Epoch: 1 [44800/60000 (75%)]\tLoss: 0.087532\n",
      "Train Epoch: 1 [51200/60000 (85%)]\tLoss: 0.209461\n",
      "Train Epoch: 1 [57600/60000 (96%)]\tLoss: 0.040616\n",
      "\n",
      "Train set: Average loss: 0.1267, Accuracy: 58610/60000 (97.7%)\n",
      "\n",
      "\n",
      "Test set: Average loss: 0.1144, Accuracy: 9680/10000 (96.800%)\n",
      "\n",
      "Train Epoch: 2 [0/60000 (0%)]\tLoss: 0.022669\n",
      "Train Epoch: 2 [6400/60000 (11%)]\tLoss: 0.097599\n",
      "Train Epoch: 2 [12800/60000 (21%)]\tLoss: 0.023873\n",
      "Train Epoch: 2 [19200/60000 (32%)]\tLoss: 0.021098\n",
      "Train Epoch: 2 [25600/60000 (43%)]\tLoss: 0.030678\n",
      "Train Epoch: 2 [32000/60000 (53%)]\tLoss: 0.013680\n",
      "Train Epoch: 2 [38400/60000 (64%)]\tLoss: 0.040384\n",
      "Train Epoch: 2 [44800/60000 (75%)]\tLoss: 0.041316\n",
      "Train Epoch: 2 [51200/60000 (85%)]\tLoss: 0.045003\n",
      "Train Epoch: 2 [57600/60000 (96%)]\tLoss: 0.082449\n",
      "\n",
      "Train set: Average loss: 0.0566, Accuracy: 58720/60000 (97.9%)\n",
      "\n",
      "\n",
      "Test set: Average loss: 0.1218, Accuracy: 9664/10000 (96.640%)\n",
      "\n",
      "Train Epoch: 3 [0/60000 (0%)]\tLoss: 0.012586\n",
      "Train Epoch: 3 [6400/60000 (11%)]\tLoss: 0.044448\n",
      "Train Epoch: 3 [12800/60000 (21%)]\tLoss: 0.014483\n",
      "Train Epoch: 3 [19200/60000 (32%)]\tLoss: 0.003880\n",
      "Train Epoch: 3 [25600/60000 (43%)]\tLoss: 0.050050\n",
      "Train Epoch: 3 [32000/60000 (53%)]\tLoss: 0.082609\n",
      "Train Epoch: 3 [38400/60000 (64%)]\tLoss: 0.060235\n",
      "Train Epoch: 3 [44800/60000 (75%)]\tLoss: 0.028818\n",
      "Train Epoch: 3 [51200/60000 (85%)]\tLoss: 0.059402\n",
      "Train Epoch: 3 [57600/60000 (96%)]\tLoss: 0.043022\n",
      "\n",
      "Train set: Average loss: 0.0346, Accuracy: 58768/60000 (97.9%)\n",
      "\n",
      "\n",
      "Test set: Average loss: 0.1219, Accuracy: 9670/10000 (96.700%)\n",
      "\n",
      "Train Epoch: 4 [0/60000 (0%)]\tLoss: 0.044157\n",
      "Train Epoch: 4 [6400/60000 (11%)]\tLoss: 0.048653\n",
      "Train Epoch: 4 [12800/60000 (21%)]\tLoss: 0.002327\n",
      "Train Epoch: 4 [19200/60000 (32%)]\tLoss: 0.054088\n",
      "Train Epoch: 4 [25600/60000 (43%)]\tLoss: 0.010822\n",
      "Train Epoch: 4 [32000/60000 (53%)]\tLoss: 0.077411\n",
      "Train Epoch: 4 [38400/60000 (64%)]\tLoss: 0.064480\n",
      "Train Epoch: 4 [44800/60000 (75%)]\tLoss: 0.007493\n",
      "Train Epoch: 4 [51200/60000 (85%)]\tLoss: 0.010560\n",
      "Train Epoch: 4 [57600/60000 (96%)]\tLoss: 0.121184\n",
      "\n",
      "Train set: Average loss: 0.0307, Accuracy: 58856/60000 (98.1%)\n",
      "\n",
      "\n",
      "Test set: Average loss: 0.1271, Accuracy: 9643/10000 (96.430%)\n",
      "\n",
      "Train Epoch: 5 [0/60000 (0%)]\tLoss: 0.017675\n",
      "Train Epoch: 5 [6400/60000 (11%)]\tLoss: 0.066234\n",
      "Train Epoch: 5 [12800/60000 (21%)]\tLoss: 0.025859\n",
      "Train Epoch: 5 [19200/60000 (32%)]\tLoss: 0.008732\n",
      "Train Epoch: 5 [25600/60000 (43%)]\tLoss: 0.010788\n",
      "Train Epoch: 5 [32000/60000 (53%)]\tLoss: 0.038814\n",
      "Train Epoch: 5 [38400/60000 (64%)]\tLoss: 0.039038\n",
      "Train Epoch: 5 [44800/60000 (75%)]\tLoss: 0.038535\n",
      "Train Epoch: 5 [51200/60000 (85%)]\tLoss: 0.122601\n",
      "Train Epoch: 5 [57600/60000 (96%)]\tLoss: 0.005235\n",
      "\n",
      "Train set: Average loss: 0.0295, Accuracy: 58927/60000 (98.2%)\n",
      "\n",
      "\n",
      "Test set: Average loss: 0.1202, Accuracy: 9688/10000 (96.880%)\n",
      "\n",
      "Train Epoch: 6 [0/60000 (0%)]\tLoss: 0.060591\n",
      "Train Epoch: 6 [6400/60000 (11%)]\tLoss: 0.003630\n",
      "Train Epoch: 6 [12800/60000 (21%)]\tLoss: 0.032989\n",
      "Train Epoch: 6 [19200/60000 (32%)]\tLoss: 0.031256\n",
      "Train Epoch: 6 [25600/60000 (43%)]\tLoss: 0.004923\n",
      "Train Epoch: 6 [32000/60000 (53%)]\tLoss: 0.088865\n",
      "Train Epoch: 6 [38400/60000 (64%)]\tLoss: 0.005194\n",
      "Train Epoch: 6 [44800/60000 (75%)]\tLoss: 0.069343\n",
      "Train Epoch: 6 [51200/60000 (85%)]\tLoss: 0.029581\n",
      "Train Epoch: 6 [57600/60000 (96%)]\tLoss: 0.059718\n",
      "\n",
      "Train set: Average loss: 0.1699, Accuracy: 58998/60000 (98.3%)\n",
      "\n",
      "\n",
      "Test set: Average loss: 0.1254, Accuracy: 9681/10000 (96.810%)\n",
      "\n",
      "Train Epoch: 7 [0/60000 (0%)]\tLoss: 0.033308\n",
      "Train Epoch: 7 [6400/60000 (11%)]\tLoss: 0.022925\n",
      "Train Epoch: 7 [12800/60000 (21%)]\tLoss: 0.006072\n",
      "Train Epoch: 7 [19200/60000 (32%)]\tLoss: 0.016077\n",
      "Train Epoch: 7 [25600/60000 (43%)]\tLoss: 0.013774\n",
      "Train Epoch: 7 [32000/60000 (53%)]\tLoss: 0.244628\n",
      "Train Epoch: 7 [38400/60000 (64%)]\tLoss: 0.047653\n",
      "Train Epoch: 7 [44800/60000 (75%)]\tLoss: 0.068977\n",
      "Train Epoch: 7 [51200/60000 (85%)]\tLoss: 0.064906\n",
      "Train Epoch: 7 [57600/60000 (96%)]\tLoss: 0.032242\n",
      "\n",
      "Train set: Average loss: 0.1468, Accuracy: 58995/60000 (98.3%)\n",
      "\n",
      "\n",
      "Test set: Average loss: 0.1165, Accuracy: 9690/10000 (96.900%)\n",
      "\n",
      "Train Epoch: 8 [0/60000 (0%)]\tLoss: 0.004921\n",
      "Train Epoch: 8 [6400/60000 (11%)]\tLoss: 0.118656\n",
      "Train Epoch: 8 [12800/60000 (21%)]\tLoss: 0.021959\n",
      "Train Epoch: 8 [19200/60000 (32%)]\tLoss: 0.032167\n",
      "Train Epoch: 8 [25600/60000 (43%)]\tLoss: 0.038604\n",
      "Train Epoch: 8 [32000/60000 (53%)]\tLoss: 0.042506\n",
      "Train Epoch: 8 [38400/60000 (64%)]\tLoss: 0.014097\n",
      "Train Epoch: 8 [44800/60000 (75%)]\tLoss: 0.093970\n",
      "Train Epoch: 8 [51200/60000 (85%)]\tLoss: 0.113674\n",
      "Train Epoch: 8 [57600/60000 (96%)]\tLoss: 0.012148\n",
      "\n",
      "Train set: Average loss: 0.0596, Accuracy: 59054/60000 (98.4%)\n",
      "\n",
      "\n",
      "Test set: Average loss: 0.1207, Accuracy: 9697/10000 (96.970%)\n",
      "\n",
      "Train Epoch: 9 [0/60000 (0%)]\tLoss: 0.018876\n",
      "Train Epoch: 9 [6400/60000 (11%)]\tLoss: 0.012889\n",
      "Train Epoch: 9 [12800/60000 (21%)]\tLoss: 0.091600\n",
      "Train Epoch: 9 [19200/60000 (32%)]\tLoss: 0.078134\n",
      "Train Epoch: 9 [25600/60000 (43%)]\tLoss: 0.005130\n",
      "Train Epoch: 9 [32000/60000 (53%)]\tLoss: 0.005376\n",
      "Train Epoch: 9 [38400/60000 (64%)]\tLoss: 0.007891\n",
      "Train Epoch: 9 [44800/60000 (75%)]\tLoss: 0.026906\n",
      "Train Epoch: 9 [51200/60000 (85%)]\tLoss: 0.011861\n",
      "Train Epoch: 9 [57600/60000 (96%)]\tLoss: 0.026132\n",
      "\n",
      "Train set: Average loss: 0.0871, Accuracy: 59106/60000 (98.5%)\n",
      "\n",
      "\n",
      "Test set: Average loss: 0.1247, Accuracy: 9667/10000 (96.670%)\n",
      "\n",
      "Train Epoch: 10 [0/60000 (0%)]\tLoss: 0.028849\n",
      "Train Epoch: 10 [6400/60000 (11%)]\tLoss: 0.031004\n",
      "Train Epoch: 10 [12800/60000 (21%)]\tLoss: 0.022255\n",
      "Train Epoch: 10 [19200/60000 (32%)]\tLoss: 0.008789\n",
      "Train Epoch: 10 [25600/60000 (43%)]\tLoss: 0.144990\n",
      "Train Epoch: 10 [32000/60000 (53%)]\tLoss: 0.040207\n",
      "Train Epoch: 10 [38400/60000 (64%)]\tLoss: 0.048574\n",
      "Train Epoch: 10 [44800/60000 (75%)]\tLoss: 0.043325\n",
      "Train Epoch: 10 [51200/60000 (85%)]\tLoss: 0.015968\n",
      "Train Epoch: 10 [57600/60000 (96%)]\tLoss: 0.014459\n",
      "\n",
      "Train set: Average loss: 0.0060, Accuracy: 59092/60000 (98.5%)\n",
      "\n",
      "\n",
      "Test set: Average loss: 0.1334, Accuracy: 9657/10000 (96.570%)\n",
      "\n",
      "Training is finished.\n"
     ]
    }
   ],
   "source": [
    "epochs = 10\n",
    "for epoch in range(1, epochs + 1):\n",
    "    train(mlp, dl_train, optimizer, epoch, log_interval=100)\n",
    "    test(mlp, dl_test)\n",
    "\n",
    "print ('Training is finished.')"
   ]
  },
  {
   "cell_type": "markdown",
   "metadata": {},
   "source": [
    "After training, you should see test accuracies of > **94%** - By they way, here we report test accuracy, the last exercises reported test error. Accuracy is simply (1 - error). Both metrics are commonly reported, there is no clear preference in literature for one or the other."
   ]
  },
  {
   "cell_type": "markdown",
   "metadata": {},
   "source": [
    "Now, can you do some parameter tuning to boost the test accuracy to > **97%**?"
   ]
  },
  {
   "cell_type": "code",
   "execution_count": 76,
   "metadata": {},
   "outputs": [
    {
     "name": "stdout",
     "output_type": "stream",
     "text": [
      "Train Epoch: 1 [0/60000 (0%)]\tLoss: 2.317722\n",
      "Train Epoch: 1 [6400/60000 (11%)]\tLoss: 1.860674\n",
      "Train Epoch: 1 [12800/60000 (21%)]\tLoss: 1.320731\n",
      "Train Epoch: 1 [19200/60000 (32%)]\tLoss: 1.328806\n",
      "Train Epoch: 1 [25600/60000 (43%)]\tLoss: 1.362586\n",
      "Train Epoch: 1 [32000/60000 (53%)]\tLoss: 0.909977\n",
      "Train Epoch: 1 [38400/60000 (64%)]\tLoss: 0.864857\n",
      "Train Epoch: 1 [44800/60000 (75%)]\tLoss: 0.846273\n",
      "Train Epoch: 1 [51200/60000 (85%)]\tLoss: 0.890095\n",
      "Train Epoch: 1 [57600/60000 (96%)]\tLoss: 0.822154\n",
      "\n",
      "Train set: Average loss: 0.6228, Accuracy: 27191/60000 (45.3%)\n",
      "\n",
      "\n",
      "Test set: Average loss: 0.7514, Accuracy: 7116/10000 (71.160%)\n",
      "\n",
      "Train Epoch: 2 [0/60000 (0%)]\tLoss: 0.694379\n",
      "Train Epoch: 2 [6400/60000 (11%)]\tLoss: 0.547655\n",
      "Train Epoch: 2 [12800/60000 (21%)]\tLoss: 0.326669\n",
      "Train Epoch: 2 [19200/60000 (32%)]\tLoss: 0.439794\n",
      "Train Epoch: 2 [25600/60000 (43%)]\tLoss: 0.306904\n",
      "Train Epoch: 2 [32000/60000 (53%)]\tLoss: 0.577280\n",
      "Train Epoch: 2 [38400/60000 (64%)]\tLoss: 0.373545\n",
      "Train Epoch: 2 [44800/60000 (75%)]\tLoss: 0.250650\n",
      "Train Epoch: 2 [51200/60000 (85%)]\tLoss: 0.271326\n",
      "Train Epoch: 2 [57600/60000 (96%)]\tLoss: 0.193235\n",
      "\n",
      "Train set: Average loss: 0.6404, Accuracy: 51475/60000 (85.8%)\n",
      "\n",
      "\n",
      "Test set: Average loss: 0.2985, Accuracy: 9144/10000 (91.440%)\n",
      "\n",
      "Train Epoch: 3 [0/60000 (0%)]\tLoss: 0.160954\n",
      "Train Epoch: 3 [6400/60000 (11%)]\tLoss: 0.315980\n",
      "Train Epoch: 3 [12800/60000 (21%)]\tLoss: 0.169230\n",
      "Train Epoch: 3 [19200/60000 (32%)]\tLoss: 0.481408\n",
      "Train Epoch: 3 [25600/60000 (43%)]\tLoss: 0.190662\n",
      "Train Epoch: 3 [32000/60000 (53%)]\tLoss: 0.311354\n",
      "Train Epoch: 3 [38400/60000 (64%)]\tLoss: 0.190737\n",
      "Train Epoch: 3 [44800/60000 (75%)]\tLoss: 0.329588\n",
      "Train Epoch: 3 [51200/60000 (85%)]\tLoss: 0.457348\n",
      "Train Epoch: 3 [57600/60000 (96%)]\tLoss: 0.143534\n",
      "\n",
      "Train set: Average loss: 0.4889, Accuracy: 55152/60000 (91.9%)\n",
      "\n",
      "\n",
      "Test set: Average loss: 0.2379, Accuracy: 9311/10000 (93.110%)\n",
      "\n",
      "Train Epoch: 4 [0/60000 (0%)]\tLoss: 0.346851\n",
      "Train Epoch: 4 [6400/60000 (11%)]\tLoss: 0.314873\n",
      "Train Epoch: 4 [12800/60000 (21%)]\tLoss: 0.228922\n",
      "Train Epoch: 4 [19200/60000 (32%)]\tLoss: 0.228916\n",
      "Train Epoch: 4 [25600/60000 (43%)]\tLoss: 0.161835\n",
      "Train Epoch: 4 [32000/60000 (53%)]\tLoss: 0.153197\n",
      "Train Epoch: 4 [38400/60000 (64%)]\tLoss: 0.148226\n",
      "Train Epoch: 4 [44800/60000 (75%)]\tLoss: 0.226155\n",
      "Train Epoch: 4 [51200/60000 (85%)]\tLoss: 0.411297\n",
      "Train Epoch: 4 [57600/60000 (96%)]\tLoss: 0.126474\n",
      "\n",
      "Train set: Average loss: 0.0214, Accuracy: 56313/60000 (93.9%)\n",
      "\n",
      "\n",
      "Test set: Average loss: 0.2401, Accuracy: 9344/10000 (93.440%)\n",
      "\n",
      "Train Epoch: 5 [0/60000 (0%)]\tLoss: 0.375825\n",
      "Train Epoch: 5 [6400/60000 (11%)]\tLoss: 0.297902\n",
      "Train Epoch: 5 [12800/60000 (21%)]\tLoss: 0.292643\n",
      "Train Epoch: 5 [19200/60000 (32%)]\tLoss: 0.283776\n",
      "Train Epoch: 5 [25600/60000 (43%)]\tLoss: 0.319969\n",
      "Train Epoch: 5 [32000/60000 (53%)]\tLoss: 0.024510\n",
      "Train Epoch: 5 [38400/60000 (64%)]\tLoss: 0.207414\n",
      "Train Epoch: 5 [44800/60000 (75%)]\tLoss: 0.139484\n",
      "Train Epoch: 5 [51200/60000 (85%)]\tLoss: 0.120693\n",
      "Train Epoch: 5 [57600/60000 (96%)]\tLoss: 0.208745\n",
      "\n",
      "Train set: Average loss: 0.2365, Accuracy: 56833/60000 (94.7%)\n",
      "\n",
      "\n",
      "Test set: Average loss: 0.1898, Accuracy: 9468/10000 (94.680%)\n",
      "\n",
      "Train Epoch: 6 [0/60000 (0%)]\tLoss: 0.135963\n",
      "Train Epoch: 6 [6400/60000 (11%)]\tLoss: 0.173532\n",
      "Train Epoch: 6 [12800/60000 (21%)]\tLoss: 0.112230\n",
      "Train Epoch: 6 [19200/60000 (32%)]\tLoss: 0.210708\n",
      "Train Epoch: 6 [25600/60000 (43%)]\tLoss: 0.142708\n",
      "Train Epoch: 6 [32000/60000 (53%)]\tLoss: 0.171048\n",
      "Train Epoch: 6 [38400/60000 (64%)]\tLoss: 0.169053\n",
      "Train Epoch: 6 [44800/60000 (75%)]\tLoss: 0.113180\n",
      "Train Epoch: 6 [51200/60000 (85%)]\tLoss: 0.086467\n",
      "Train Epoch: 6 [57600/60000 (96%)]\tLoss: 0.265497\n",
      "\n",
      "Train set: Average loss: 0.2955, Accuracy: 57328/60000 (95.5%)\n",
      "\n",
      "\n",
      "Test set: Average loss: 0.1655, Accuracy: 9552/10000 (95.520%)\n",
      "\n",
      "Train Epoch: 7 [0/60000 (0%)]\tLoss: 0.226256\n",
      "Train Epoch: 7 [6400/60000 (11%)]\tLoss: 0.099542\n",
      "Train Epoch: 7 [12800/60000 (21%)]\tLoss: 0.165346\n",
      "Train Epoch: 7 [19200/60000 (32%)]\tLoss: 0.155329\n",
      "Train Epoch: 7 [25600/60000 (43%)]\tLoss: 0.112852\n",
      "Train Epoch: 7 [32000/60000 (53%)]\tLoss: 0.022788\n",
      "Train Epoch: 7 [38400/60000 (64%)]\tLoss: 0.300779\n",
      "Train Epoch: 7 [44800/60000 (75%)]\tLoss: 0.067392\n",
      "Train Epoch: 7 [51200/60000 (85%)]\tLoss: 0.082694\n",
      "Train Epoch: 7 [57600/60000 (96%)]\tLoss: 0.029494\n",
      "\n",
      "Train set: Average loss: 0.2226, Accuracy: 57582/60000 (96.0%)\n",
      "\n",
      "\n",
      "Test set: Average loss: 0.1606, Accuracy: 9558/10000 (95.580%)\n",
      "\n",
      "Train Epoch: 8 [0/60000 (0%)]\tLoss: 0.163084\n",
      "Train Epoch: 8 [6400/60000 (11%)]\tLoss: 0.063074\n",
      "Train Epoch: 8 [12800/60000 (21%)]\tLoss: 0.193683\n",
      "Train Epoch: 8 [19200/60000 (32%)]\tLoss: 0.177009\n",
      "Train Epoch: 8 [25600/60000 (43%)]\tLoss: 0.139764\n",
      "Train Epoch: 8 [32000/60000 (53%)]\tLoss: 0.105271\n",
      "Train Epoch: 8 [38400/60000 (64%)]\tLoss: 0.162827\n",
      "Train Epoch: 8 [44800/60000 (75%)]\tLoss: 0.131654\n",
      "Train Epoch: 8 [51200/60000 (85%)]\tLoss: 0.067999\n",
      "Train Epoch: 8 [57600/60000 (96%)]\tLoss: 0.071671\n",
      "\n",
      "Train set: Average loss: 0.0524, Accuracy: 57839/60000 (96.4%)\n",
      "\n",
      "\n",
      "Test set: Average loss: 0.1499, Accuracy: 9591/10000 (95.910%)\n",
      "\n",
      "Train Epoch: 9 [0/60000 (0%)]\tLoss: 0.081194\n",
      "Train Epoch: 9 [6400/60000 (11%)]\tLoss: 0.088036\n",
      "Train Epoch: 9 [12800/60000 (21%)]\tLoss: 0.090472\n",
      "Train Epoch: 9 [19200/60000 (32%)]\tLoss: 0.054996\n",
      "Train Epoch: 9 [25600/60000 (43%)]\tLoss: 0.035624\n",
      "Train Epoch: 9 [32000/60000 (53%)]\tLoss: 0.025682\n",
      "Train Epoch: 9 [38400/60000 (64%)]\tLoss: 0.131033\n",
      "Train Epoch: 9 [44800/60000 (75%)]\tLoss: 0.086781\n",
      "Train Epoch: 9 [51200/60000 (85%)]\tLoss: 0.016351\n",
      "Train Epoch: 9 [57600/60000 (96%)]\tLoss: 0.053541\n",
      "\n",
      "Train set: Average loss: 0.0422, Accuracy: 57882/60000 (96.5%)\n",
      "\n",
      "\n",
      "Test set: Average loss: 0.1761, Accuracy: 9517/10000 (95.170%)\n",
      "\n",
      "Train Epoch: 10 [0/60000 (0%)]\tLoss: 0.104328\n",
      "Train Epoch: 10 [6400/60000 (11%)]\tLoss: 0.165654\n",
      "Train Epoch: 10 [12800/60000 (21%)]\tLoss: 0.116884\n",
      "Train Epoch: 10 [19200/60000 (32%)]\tLoss: 0.097359\n",
      "Train Epoch: 10 [25600/60000 (43%)]\tLoss: 0.147863\n",
      "Train Epoch: 10 [32000/60000 (53%)]\tLoss: 0.152326\n",
      "Train Epoch: 10 [38400/60000 (64%)]\tLoss: 0.102382\n",
      "Train Epoch: 10 [44800/60000 (75%)]\tLoss: 0.059465\n",
      "Train Epoch: 10 [51200/60000 (85%)]\tLoss: 0.265274\n",
      "Train Epoch: 10 [57600/60000 (96%)]\tLoss: 0.018472\n",
      "\n",
      "Train set: Average loss: 0.0700, Accuracy: 58107/60000 (96.8%)\n",
      "\n",
      "\n",
      "Test set: Average loss: 0.1482, Accuracy: 9602/10000 (96.020%)\n",
      "\n",
      "Training is finished.\n"
     ]
    }
   ],
   "source": [
    "#########################################################################\n",
    "#TODO: modify the parameters below to see which setting that you can get to 97%\n",
    "#########################################################################\n",
    "nLayer = 10 #5\n",
    "nHidden = 50 #30\n",
    "act_fn = nn.LogSigmoid()\n",
    "\n",
    "# reinitialize the mlp, so we can play with parameters right here\n",
    "mlp = MLP(nInput, nOutput, nLayer, nHidden, act_fn)\n",
    "optimizer = optim.Adam(mlp.parameters())\n",
    "\n",
    "epochs = 10 #18\n",
    "for epoch in range(1, epochs + 1):\n",
    "    train(mlp, dl_train, optimizer, epoch, log_interval=100)\n",
    "    test(mlp, dl_test)\n",
    "\n",
    "print ('Training is finished.')"
   ]
  },
  {
   "cell_type": "markdown",
   "metadata": {},
   "source": [
    "Before you move on to the next exercise, you can further play with the other parameters (learning rate, epochs, a different optimizer, etc.) to get a feeling what can improve or hamper performance. "
   ]
  },
  {
   "cell_type": "markdown",
   "metadata": {},
   "source": [
    "## CNN\n",
    "Alright, we matched our prior performance. Let's surpass it! You will soon see the power of CNN by building a small one yourself. The structure should be as follows\n",
    "\n",
    "| CNN Architecture                             \t|\n",
    "|----------------------------------------------\t|\n",
    "| Conv: $C_{in}=1, C_{out}=32, K=3, S=1, P=0$  \t|\n",
    "| ReLU                                         \t|\n",
    "| Conv: $C_{in}=32, C_{out}=64, K=3, S=1, P=0$ \t|\n",
    "| ReLU                                         \t|\n",
    "| MaxPool2d: $K=2, S=2, P=0$                   \t|\n",
    "| Dropout: $p=0.25$                            \t|\n",
    "| Linear: $C_{in}=9216, C_{out}=128$           \t|\n",
    "| ReLU                                         \t|\n",
    "| Dropout: $p=0.5$                             \t|\n",
    "| Linear: $C_{in}=128, C_{out}=10$             \t|\n",
    "\n",
    "The layers you will need are: \n",
    "\n",
    "`nn.Conv2d,  nn.Linear,  nn.Dropout, nn.MaxPool2d, nn.Flatten`\n",
    "\n",
    "For layers without parameters you can alternatively use function in the forward pass:  \n",
    "\n",
    "`F.max_pool2d, torch.flatten`"
   ]
  },
  {
   "cell_type": "code",
   "execution_count": 120,
   "metadata": {},
   "outputs": [],
   "source": [
    "#########################################################################\n",
    "# TODO: Implement the __init__ and forward method of the CNN class. \n",
    "# Hint: do not forget to flatten the appropriate dimension after the convolutional blocks. \n",
    "# A linear layers expect input of the size (B, H) with batch size B and feature size H\n",
    "#########################################################################\n",
    "\n",
    "class CNN(nn.Module):\n",
    "    def __init__(self):\n",
    "        super(CNN, self).__init__()\n",
    "        self.model = nn.Sequential(nn.Conv2d(1, 32, 3, 1, 0), nn.ReLU(), \\\n",
    "                                   nn.Conv2d(32, 64, 3, 1, 0), nn.ReLU(), \\\n",
    "                                   nn.MaxPool2d(2, 2, 0), nn.Dropout(0.25), \\\n",
    "                                   nn.Flatten(), nn.Linear(9216, 128), nn.ReLU(), \\\n",
    "                                   nn.Dropout(0.5), nn.Linear(128,10))\n",
    "    def forward(self, x):\n",
    "        #x = torch.flatten(x, 1)\n",
    "        return self.model(x)"
   ]
  },
  {
   "cell_type": "code",
   "execution_count": 121,
   "metadata": {},
   "outputs": [
    {
     "data": {
      "text/plain": [
       "torch.Size([1, 10])"
      ]
     },
     "execution_count": 121,
     "metadata": {},
     "output_type": "execute_result"
    }
   ],
   "source": [
    "# Let's test if the forward pass works\n",
    "# this should print torch.Size([1, 10])\n",
    "t = torch.randn(1,1,28,28)\n",
    "cnn = CNN()\n",
    "cnn(t).shape"
   ]
  },
  {
   "cell_type": "markdown",
   "metadata": {},
   "source": [
    "Alright, let's train!"
   ]
  },
  {
   "cell_type": "code",
   "execution_count": 97,
   "metadata": {},
   "outputs": [],
   "source": [
    "optimizer = optim.Adam(cnn.parameters())"
   ]
  },
  {
   "cell_type": "code",
   "execution_count": 98,
   "metadata": {
    "scrolled": true
   },
   "outputs": [
    {
     "name": "stdout",
     "output_type": "stream",
     "text": [
      "Train Epoch: 1 [0/60000 (0%)]\tLoss: 2.338136\n",
      "Train Epoch: 1 [6400/60000 (11%)]\tLoss: 0.176379\n",
      "Train Epoch: 1 [12800/60000 (21%)]\tLoss: 0.160778\n",
      "Train Epoch: 1 [19200/60000 (32%)]\tLoss: 0.104315\n",
      "Train Epoch: 1 [25600/60000 (43%)]\tLoss: 0.136276\n",
      "Train Epoch: 1 [32000/60000 (53%)]\tLoss: 0.039116\n",
      "Train Epoch: 1 [38400/60000 (64%)]\tLoss: 0.086238\n",
      "Train Epoch: 1 [44800/60000 (75%)]\tLoss: 0.096491\n",
      "Train Epoch: 1 [51200/60000 (85%)]\tLoss: 0.162326\n",
      "Train Epoch: 1 [57600/60000 (96%)]\tLoss: 0.189787\n",
      "\n",
      "Train set: Average loss: 0.0461, Accuracy: 56391/60000 (94.0%)\n",
      "\n",
      "\n",
      "Test set: Average loss: 0.0460, Accuracy: 9847/10000 (98.470%)\n",
      "\n",
      "Train Epoch: 2 [0/60000 (0%)]\tLoss: 0.031984\n",
      "Train Epoch: 2 [6400/60000 (11%)]\tLoss: 0.052394\n",
      "Train Epoch: 2 [12800/60000 (21%)]\tLoss: 0.031951\n",
      "Train Epoch: 2 [19200/60000 (32%)]\tLoss: 0.105774\n",
      "Train Epoch: 2 [25600/60000 (43%)]\tLoss: 0.005842\n",
      "Train Epoch: 2 [32000/60000 (53%)]\tLoss: 0.060536\n",
      "Train Epoch: 2 [38400/60000 (64%)]\tLoss: 0.227471\n",
      "Train Epoch: 2 [44800/60000 (75%)]\tLoss: 0.088375\n",
      "Train Epoch: 2 [51200/60000 (85%)]\tLoss: 0.053434\n",
      "Train Epoch: 2 [57600/60000 (96%)]\tLoss: 0.134107\n",
      "\n",
      "Train set: Average loss: 0.0159, Accuracy: 58458/60000 (97.4%)\n",
      "\n",
      "\n",
      "Test set: Average loss: 0.0339, Accuracy: 9881/10000 (98.810%)\n",
      "\n",
      "Train Epoch: 3 [0/60000 (0%)]\tLoss: 0.023260\n",
      "Train Epoch: 3 [6400/60000 (11%)]\tLoss: 0.063675\n",
      "Train Epoch: 3 [12800/60000 (21%)]\tLoss: 0.005962\n",
      "Train Epoch: 3 [19200/60000 (32%)]\tLoss: 0.067175\n",
      "Train Epoch: 3 [25600/60000 (43%)]\tLoss: 0.022830\n",
      "Train Epoch: 3 [32000/60000 (53%)]\tLoss: 0.009800\n",
      "Train Epoch: 3 [38400/60000 (64%)]\tLoss: 0.104354\n",
      "Train Epoch: 3 [44800/60000 (75%)]\tLoss: 0.047490\n",
      "Train Epoch: 3 [51200/60000 (85%)]\tLoss: 0.185498\n",
      "Train Epoch: 3 [57600/60000 (96%)]\tLoss: 0.052246\n",
      "\n",
      "Train set: Average loss: 0.1461, Accuracy: 58783/60000 (98.0%)\n",
      "\n",
      "\n",
      "Test set: Average loss: 0.0391, Accuracy: 9880/10000 (98.800%)\n",
      "\n",
      "Train Epoch: 4 [0/60000 (0%)]\tLoss: 0.083138\n",
      "Train Epoch: 4 [6400/60000 (11%)]\tLoss: 0.018734\n",
      "Train Epoch: 4 [12800/60000 (21%)]\tLoss: 0.112558\n",
      "Train Epoch: 4 [19200/60000 (32%)]\tLoss: 0.167069\n",
      "Train Epoch: 4 [25600/60000 (43%)]\tLoss: 0.102123\n",
      "Train Epoch: 4 [32000/60000 (53%)]\tLoss: 0.145500\n",
      "Train Epoch: 4 [38400/60000 (64%)]\tLoss: 0.031430\n",
      "Train Epoch: 4 [44800/60000 (75%)]\tLoss: 0.012211\n",
      "Train Epoch: 4 [51200/60000 (85%)]\tLoss: 0.030658\n",
      "Train Epoch: 4 [57600/60000 (96%)]\tLoss: 0.005991\n",
      "\n",
      "Train set: Average loss: 0.0543, Accuracy: 59001/60000 (98.3%)\n",
      "\n",
      "\n",
      "Test set: Average loss: 0.0383, Accuracy: 9879/10000 (98.790%)\n",
      "\n",
      "Train Epoch: 5 [0/60000 (0%)]\tLoss: 0.046219\n",
      "Train Epoch: 5 [6400/60000 (11%)]\tLoss: 0.043444\n",
      "Train Epoch: 5 [12800/60000 (21%)]\tLoss: 0.016948\n",
      "Train Epoch: 5 [19200/60000 (32%)]\tLoss: 0.013562\n",
      "Train Epoch: 5 [25600/60000 (43%)]\tLoss: 0.032703\n",
      "Train Epoch: 5 [32000/60000 (53%)]\tLoss: 0.018077\n",
      "Train Epoch: 5 [38400/60000 (64%)]\tLoss: 0.009972\n",
      "Train Epoch: 5 [44800/60000 (75%)]\tLoss: 0.038342\n",
      "Train Epoch: 5 [51200/60000 (85%)]\tLoss: 0.065180\n",
      "Train Epoch: 5 [57600/60000 (96%)]\tLoss: 0.005893\n",
      "\n",
      "Train set: Average loss: 0.4592, Accuracy: 59112/60000 (98.5%)\n",
      "\n",
      "\n",
      "Test set: Average loss: 0.0291, Accuracy: 9914/10000 (99.140%)\n",
      "\n"
     ]
    }
   ],
   "source": [
    "epochs = 5\n",
    "for epoch in range(1, epochs + 1):\n",
    "    train(cnn, dl_train, optimizer, epoch, log_interval=100)\n",
    "    test(cnn, dl_test)"
   ]
  },
  {
   "cell_type": "markdown",
   "metadata": {},
   "source": [
    "This will probably take a bit longer to train, as a convolutional network is not very efficient on a CPU. The current settings should get you around **99%** accuracy. Nice! \n",
    "Again, you should try different hyperparameters and see how far you can push the performance."
   ]
  },
  {
   "cell_type": "markdown",
   "metadata": {},
   "source": [
    "### Inline Question\n",
    "\n",
    "If your model weight is randomly initalized, and no training is done as above. What accuracy do you think the model will get for a 10-class classification task in theory?\n",
    "\n",
    "**Your answer**: 10% \n"
   ]
  },
  {
   "cell_type": "markdown",
   "metadata": {},
   "source": [
    "## Training on CIFAR10\n",
    "\n",
    "Now we are going to move to something more challenging - CIFAR10. We can reuse most of the code above. Thankfully, CIFAR is also a popular dataset, so we can again make use of a PyTorch convience function."
   ]
  },
  {
   "cell_type": "code",
   "execution_count": 102,
   "metadata": {},
   "outputs": [
    {
     "name": "stdout",
     "output_type": "stream",
     "text": [
      "Files already downloaded and verified\n"
     ]
    }
   ],
   "source": [
    "ds_train = datasets.CIFAR10(root='./data', train=True, download=True)"
   ]
  },
  {
   "cell_type": "markdown",
   "metadata": {},
   "source": [
    "This dataset is not normalized yet, so we need to calculate the normalization constants."
   ]
  },
  {
   "cell_type": "code",
   "execution_count": 103,
   "metadata": {},
   "outputs": [],
   "source": [
    "ims_train = torch.tensor(ds_train.data)\n",
    "ims_train = ims_train.float() / 255."
   ]
  },
  {
   "cell_type": "code",
   "execution_count": 104,
   "metadata": {},
   "outputs": [
    {
     "data": {
      "text/plain": [
       "tensor([0.2470, 0.2435, 0.2616])"
      ]
     },
     "execution_count": 104,
     "metadata": {},
     "output_type": "execute_result"
    }
   ],
   "source": [
    "ims_train.std((0,1,2))"
   ]
  },
  {
   "cell_type": "code",
   "execution_count": 122,
   "metadata": {},
   "outputs": [],
   "source": [
    "#########################################################################\n",
    "# TODO: calculate the mean and std of CIFAR\n",
    "# hint: We want the mean and std of the channel dimension, these should\n",
    "# be 3 dimensional\n",
    "#########################################################################\n",
    "mu = torch.mean(ims_train, dim=(0,1,2))\n",
    "std = torch.std(ims_train, dim=(0,1,2))\n"
   ]
  },
  {
   "cell_type": "code",
   "execution_count": 123,
   "metadata": {},
   "outputs": [
    {
     "data": {
      "text/plain": [
       "tensor([0.4914, 0.4822, 0.4465])"
      ]
     },
     "execution_count": 123,
     "metadata": {},
     "output_type": "execute_result"
    }
   ],
   "source": [
    "torch.mean(ims_train, dim=(0,1,2))"
   ]
  },
  {
   "cell_type": "markdown",
   "metadata": {},
   "source": [
    "For CIFAR we want to make use of data augmentation to improve generalization. You will find all data augmentations data are included in torchvision here:\n",
    "\n",
    "https://pytorch.org/docs/stable/torchvision/transforms.html"
   ]
  },
  {
   "cell_type": "code",
   "execution_count": 124,
   "metadata": {},
   "outputs": [
    {
     "name": "stdout",
     "output_type": "stream",
     "text": [
      "Files already downloaded and verified\n",
      "Files already downloaded and verified\n"
     ]
    }
   ],
   "source": [
    "BATCH_SIZE = 128\n",
    "NUM_WORKERS = 4 # if you encounter some unexpected errors in data loading, try setting `NUM_WORKERS = 0`\n",
    "#########################################################################\n",
    "# TODO: Implement the proper transforms for the training and test dataloaders. \n",
    "# Then build train and test dataloaders with batch size 128 and 4 workers\n",
    "#\n",
    "# Train: \n",
    "# - Apply a random crop with size 32 on a padded version of the image with P=4\n",
    "# - Flip the image horizontally with a probability of 40 %\n",
    "# - Transform to a Tensor\n",
    "# - Normalize with the constants calculated above\n",
    "# Test: \n",
    "# - Transform to a Tensor\n",
    "# - Normalize with the constants calculated above\n",
    "#########################################################################\n",
    "transform_train = transforms.Compose([\n",
    "    transforms.RandomCrop(32, 4),\n",
    "    transforms.RandomHorizontalFlip(0.4),\n",
    "    transforms.ToTensor(),\n",
    "    transforms.Normalize(mu, std),\n",
    "])\n",
    "transform_test = transforms.Compose([\n",
    "    transforms.ToTensor(),\n",
    "    transforms.Normalize(mu, std),\n",
    "])\n",
    "\n",
    "ds_train = datasets.CIFAR10('./data', train=True, download=True, transform=transform_train)\n",
    "ds_test = datasets.CIFAR10('./data', train=False, download=True, transform=transform_test)\n",
    "\n",
    "dl_train = DataLoader(ds_train, batch_size=BATCH_SIZE, num_workers=NUM_WORKERS, shuffle=True)\n",
    "dl_test = DataLoader(ds_test, batch_size=BATCH_SIZE, num_workers=NUM_WORKERS, shuffle=False)"
   ]
  },
  {
   "cell_type": "markdown",
   "metadata": {},
   "source": [
    "Setting up the  optimizer, this time we use SGD. The scheduler adapts the learning rate during traing (you can ignore it)"
   ]
  },
  {
   "cell_type": "code",
   "execution_count": 113,
   "metadata": {},
   "outputs": [],
   "source": [
    "cnn = CNN()\n",
    "optimizer = optim.SGD(cnn.parameters(), lr=0.1, momentum=0.9, weight_decay=5e-4)\n",
    "scheduler = torch.optim.lr_scheduler.CosineAnnealingLR(optimizer, T_max=200)"
   ]
  },
  {
   "cell_type": "code",
   "execution_count": 114,
   "metadata": {
    "scrolled": true
   },
   "outputs": [
    {
     "ename": "RuntimeError",
     "evalue": "Given groups=1, weight of size [32, 1, 3, 3], expected input[128, 3, 32, 32] to have 1 channels, but got 3 channels instead",
     "output_type": "error",
     "traceback": [
      "\u001b[0;31m---------------------------------------------------------------------------\u001b[0m",
      "\u001b[0;31mRuntimeError\u001b[0m                              Traceback (most recent call last)",
      "Input \u001b[0;32mIn [114]\u001b[0m, in \u001b[0;36m<cell line: 2>\u001b[0;34m()\u001b[0m\n\u001b[1;32m      1\u001b[0m epochs \u001b[38;5;241m=\u001b[39m \u001b[38;5;241m5\u001b[39m\n\u001b[1;32m      2\u001b[0m \u001b[38;5;28;01mfor\u001b[39;00m epoch \u001b[38;5;129;01min\u001b[39;00m \u001b[38;5;28mrange\u001b[39m(\u001b[38;5;241m1\u001b[39m, epochs \u001b[38;5;241m+\u001b[39m \u001b[38;5;241m1\u001b[39m):\n\u001b[0;32m----> 3\u001b[0m     \u001b[43mtrain\u001b[49m\u001b[43m(\u001b[49m\u001b[43mcnn\u001b[49m\u001b[43m,\u001b[49m\u001b[43m \u001b[49m\u001b[43mdl_train\u001b[49m\u001b[43m,\u001b[49m\u001b[43m \u001b[49m\u001b[43moptimizer\u001b[49m\u001b[43m,\u001b[49m\u001b[43m \u001b[49m\u001b[43mepoch\u001b[49m\u001b[43m,\u001b[49m\u001b[43m \u001b[49m\u001b[43mlog_interval\u001b[49m\u001b[38;5;241;43m=\u001b[39;49m\u001b[38;5;241;43m100\u001b[39;49m\u001b[43m)\u001b[49m\n\u001b[1;32m      4\u001b[0m     test(cnn, dl_test)    \n\u001b[1;32m      5\u001b[0m     scheduler\u001b[38;5;241m.\u001b[39mstep()\n",
      "Input \u001b[0;32mIn [68]\u001b[0m, in \u001b[0;36mtrain\u001b[0;34m(model, dl_train, optimizer, epoch, log_interval, device)\u001b[0m\n\u001b[1;32m     14\u001b[0m optimizer\u001b[38;5;241m.\u001b[39mzero_grad()         \n\u001b[1;32m     16\u001b[0m \u001b[38;5;66;03m##### implement this part #####\u001b[39;00m\n\u001b[0;32m---> 17\u001b[0m output \u001b[38;5;241m=\u001b[39m \u001b[43mmodel\u001b[49m\u001b[38;5;241;43m.\u001b[39;49m\u001b[43mforward\u001b[49m\u001b[43m(\u001b[49m\u001b[43mdata\u001b[49m\u001b[43m)\u001b[49m\n\u001b[1;32m     18\u001b[0m loss \u001b[38;5;241m=\u001b[39m F\u001b[38;5;241m.\u001b[39mcross_entropy(output, target)\n\u001b[1;32m     19\u001b[0m loss\u001b[38;5;241m.\u001b[39mbackward()\n",
      "Input \u001b[0;32mIn [95]\u001b[0m, in \u001b[0;36mCNN.forward\u001b[0;34m(self, x)\u001b[0m\n\u001b[1;32m     15\u001b[0m \u001b[38;5;28;01mdef\u001b[39;00m \u001b[38;5;21mforward\u001b[39m(\u001b[38;5;28mself\u001b[39m, x):\n\u001b[1;32m     16\u001b[0m     \u001b[38;5;66;03m#x = torch.flatten(x, 1)\u001b[39;00m\n\u001b[0;32m---> 17\u001b[0m     \u001b[38;5;28;01mreturn\u001b[39;00m \u001b[38;5;28;43mself\u001b[39;49m\u001b[38;5;241;43m.\u001b[39;49m\u001b[43mmodel\u001b[49m\u001b[43m(\u001b[49m\u001b[43mx\u001b[49m\u001b[43m)\u001b[49m\n",
      "File \u001b[0;32m~/anaconda3/lib/python3.9/site-packages/torch/nn/modules/module.py:1130\u001b[0m, in \u001b[0;36mModule._call_impl\u001b[0;34m(self, *input, **kwargs)\u001b[0m\n\u001b[1;32m   1126\u001b[0m \u001b[38;5;66;03m# If we don't have any hooks, we want to skip the rest of the logic in\u001b[39;00m\n\u001b[1;32m   1127\u001b[0m \u001b[38;5;66;03m# this function, and just call forward.\u001b[39;00m\n\u001b[1;32m   1128\u001b[0m \u001b[38;5;28;01mif\u001b[39;00m \u001b[38;5;129;01mnot\u001b[39;00m (\u001b[38;5;28mself\u001b[39m\u001b[38;5;241m.\u001b[39m_backward_hooks \u001b[38;5;129;01mor\u001b[39;00m \u001b[38;5;28mself\u001b[39m\u001b[38;5;241m.\u001b[39m_forward_hooks \u001b[38;5;129;01mor\u001b[39;00m \u001b[38;5;28mself\u001b[39m\u001b[38;5;241m.\u001b[39m_forward_pre_hooks \u001b[38;5;129;01mor\u001b[39;00m _global_backward_hooks\n\u001b[1;32m   1129\u001b[0m         \u001b[38;5;129;01mor\u001b[39;00m _global_forward_hooks \u001b[38;5;129;01mor\u001b[39;00m _global_forward_pre_hooks):\n\u001b[0;32m-> 1130\u001b[0m     \u001b[38;5;28;01mreturn\u001b[39;00m \u001b[43mforward_call\u001b[49m\u001b[43m(\u001b[49m\u001b[38;5;241;43m*\u001b[39;49m\u001b[38;5;28;43minput\u001b[39;49m\u001b[43m,\u001b[49m\u001b[43m \u001b[49m\u001b[38;5;241;43m*\u001b[39;49m\u001b[38;5;241;43m*\u001b[39;49m\u001b[43mkwargs\u001b[49m\u001b[43m)\u001b[49m\n\u001b[1;32m   1131\u001b[0m \u001b[38;5;66;03m# Do not call functions when jit is used\u001b[39;00m\n\u001b[1;32m   1132\u001b[0m full_backward_hooks, non_full_backward_hooks \u001b[38;5;241m=\u001b[39m [], []\n",
      "File \u001b[0;32m~/anaconda3/lib/python3.9/site-packages/torch/nn/modules/container.py:139\u001b[0m, in \u001b[0;36mSequential.forward\u001b[0;34m(self, input)\u001b[0m\n\u001b[1;32m    137\u001b[0m \u001b[38;5;28;01mdef\u001b[39;00m \u001b[38;5;21mforward\u001b[39m(\u001b[38;5;28mself\u001b[39m, \u001b[38;5;28minput\u001b[39m):\n\u001b[1;32m    138\u001b[0m     \u001b[38;5;28;01mfor\u001b[39;00m module \u001b[38;5;129;01min\u001b[39;00m \u001b[38;5;28mself\u001b[39m:\n\u001b[0;32m--> 139\u001b[0m         \u001b[38;5;28minput\u001b[39m \u001b[38;5;241m=\u001b[39m \u001b[43mmodule\u001b[49m\u001b[43m(\u001b[49m\u001b[38;5;28;43minput\u001b[39;49m\u001b[43m)\u001b[49m\n\u001b[1;32m    140\u001b[0m     \u001b[38;5;28;01mreturn\u001b[39;00m \u001b[38;5;28minput\u001b[39m\n",
      "File \u001b[0;32m~/anaconda3/lib/python3.9/site-packages/torch/nn/modules/module.py:1130\u001b[0m, in \u001b[0;36mModule._call_impl\u001b[0;34m(self, *input, **kwargs)\u001b[0m\n\u001b[1;32m   1126\u001b[0m \u001b[38;5;66;03m# If we don't have any hooks, we want to skip the rest of the logic in\u001b[39;00m\n\u001b[1;32m   1127\u001b[0m \u001b[38;5;66;03m# this function, and just call forward.\u001b[39;00m\n\u001b[1;32m   1128\u001b[0m \u001b[38;5;28;01mif\u001b[39;00m \u001b[38;5;129;01mnot\u001b[39;00m (\u001b[38;5;28mself\u001b[39m\u001b[38;5;241m.\u001b[39m_backward_hooks \u001b[38;5;129;01mor\u001b[39;00m \u001b[38;5;28mself\u001b[39m\u001b[38;5;241m.\u001b[39m_forward_hooks \u001b[38;5;129;01mor\u001b[39;00m \u001b[38;5;28mself\u001b[39m\u001b[38;5;241m.\u001b[39m_forward_pre_hooks \u001b[38;5;129;01mor\u001b[39;00m _global_backward_hooks\n\u001b[1;32m   1129\u001b[0m         \u001b[38;5;129;01mor\u001b[39;00m _global_forward_hooks \u001b[38;5;129;01mor\u001b[39;00m _global_forward_pre_hooks):\n\u001b[0;32m-> 1130\u001b[0m     \u001b[38;5;28;01mreturn\u001b[39;00m \u001b[43mforward_call\u001b[49m\u001b[43m(\u001b[49m\u001b[38;5;241;43m*\u001b[39;49m\u001b[38;5;28;43minput\u001b[39;49m\u001b[43m,\u001b[49m\u001b[43m \u001b[49m\u001b[38;5;241;43m*\u001b[39;49m\u001b[38;5;241;43m*\u001b[39;49m\u001b[43mkwargs\u001b[49m\u001b[43m)\u001b[49m\n\u001b[1;32m   1131\u001b[0m \u001b[38;5;66;03m# Do not call functions when jit is used\u001b[39;00m\n\u001b[1;32m   1132\u001b[0m full_backward_hooks, non_full_backward_hooks \u001b[38;5;241m=\u001b[39m [], []\n",
      "File \u001b[0;32m~/anaconda3/lib/python3.9/site-packages/torch/nn/modules/conv.py:457\u001b[0m, in \u001b[0;36mConv2d.forward\u001b[0;34m(self, input)\u001b[0m\n\u001b[1;32m    456\u001b[0m \u001b[38;5;28;01mdef\u001b[39;00m \u001b[38;5;21mforward\u001b[39m(\u001b[38;5;28mself\u001b[39m, \u001b[38;5;28minput\u001b[39m: Tensor) \u001b[38;5;241m-\u001b[39m\u001b[38;5;241m>\u001b[39m Tensor:\n\u001b[0;32m--> 457\u001b[0m     \u001b[38;5;28;01mreturn\u001b[39;00m \u001b[38;5;28;43mself\u001b[39;49m\u001b[38;5;241;43m.\u001b[39;49m\u001b[43m_conv_forward\u001b[49m\u001b[43m(\u001b[49m\u001b[38;5;28;43minput\u001b[39;49m\u001b[43m,\u001b[49m\u001b[43m \u001b[49m\u001b[38;5;28;43mself\u001b[39;49m\u001b[38;5;241;43m.\u001b[39;49m\u001b[43mweight\u001b[49m\u001b[43m,\u001b[49m\u001b[43m \u001b[49m\u001b[38;5;28;43mself\u001b[39;49m\u001b[38;5;241;43m.\u001b[39;49m\u001b[43mbias\u001b[49m\u001b[43m)\u001b[49m\n",
      "File \u001b[0;32m~/anaconda3/lib/python3.9/site-packages/torch/nn/modules/conv.py:453\u001b[0m, in \u001b[0;36mConv2d._conv_forward\u001b[0;34m(self, input, weight, bias)\u001b[0m\n\u001b[1;32m    449\u001b[0m \u001b[38;5;28;01mif\u001b[39;00m \u001b[38;5;28mself\u001b[39m\u001b[38;5;241m.\u001b[39mpadding_mode \u001b[38;5;241m!=\u001b[39m \u001b[38;5;124m'\u001b[39m\u001b[38;5;124mzeros\u001b[39m\u001b[38;5;124m'\u001b[39m:\n\u001b[1;32m    450\u001b[0m     \u001b[38;5;28;01mreturn\u001b[39;00m F\u001b[38;5;241m.\u001b[39mconv2d(F\u001b[38;5;241m.\u001b[39mpad(\u001b[38;5;28minput\u001b[39m, \u001b[38;5;28mself\u001b[39m\u001b[38;5;241m.\u001b[39m_reversed_padding_repeated_twice, mode\u001b[38;5;241m=\u001b[39m\u001b[38;5;28mself\u001b[39m\u001b[38;5;241m.\u001b[39mpadding_mode),\n\u001b[1;32m    451\u001b[0m                     weight, bias, \u001b[38;5;28mself\u001b[39m\u001b[38;5;241m.\u001b[39mstride,\n\u001b[1;32m    452\u001b[0m                     _pair(\u001b[38;5;241m0\u001b[39m), \u001b[38;5;28mself\u001b[39m\u001b[38;5;241m.\u001b[39mdilation, \u001b[38;5;28mself\u001b[39m\u001b[38;5;241m.\u001b[39mgroups)\n\u001b[0;32m--> 453\u001b[0m \u001b[38;5;28;01mreturn\u001b[39;00m \u001b[43mF\u001b[49m\u001b[38;5;241;43m.\u001b[39;49m\u001b[43mconv2d\u001b[49m\u001b[43m(\u001b[49m\u001b[38;5;28;43minput\u001b[39;49m\u001b[43m,\u001b[49m\u001b[43m \u001b[49m\u001b[43mweight\u001b[49m\u001b[43m,\u001b[49m\u001b[43m \u001b[49m\u001b[43mbias\u001b[49m\u001b[43m,\u001b[49m\u001b[43m \u001b[49m\u001b[38;5;28;43mself\u001b[39;49m\u001b[38;5;241;43m.\u001b[39;49m\u001b[43mstride\u001b[49m\u001b[43m,\u001b[49m\n\u001b[1;32m    454\u001b[0m \u001b[43m                \u001b[49m\u001b[38;5;28;43mself\u001b[39;49m\u001b[38;5;241;43m.\u001b[39;49m\u001b[43mpadding\u001b[49m\u001b[43m,\u001b[49m\u001b[43m \u001b[49m\u001b[38;5;28;43mself\u001b[39;49m\u001b[38;5;241;43m.\u001b[39;49m\u001b[43mdilation\u001b[49m\u001b[43m,\u001b[49m\u001b[43m \u001b[49m\u001b[38;5;28;43mself\u001b[39;49m\u001b[38;5;241;43m.\u001b[39;49m\u001b[43mgroups\u001b[49m\u001b[43m)\u001b[49m\n",
      "\u001b[0;31mRuntimeError\u001b[0m: Given groups=1, weight of size [32, 1, 3, 3], expected input[128, 3, 32, 32] to have 1 channels, but got 3 channels instead"
     ]
    }
   ],
   "source": [
    "epochs = 5\n",
    "for epoch in range(1, epochs + 1):\n",
    "    train(cnn, dl_train, optimizer, epoch, log_interval=100)\n",
    "    test(cnn, dl_test)    \n",
    "    scheduler.step()"
   ]
  },
  {
   "cell_type": "markdown",
   "metadata": {},
   "source": [
    "This will not work. You should see the following error message\n",
    "\n",
    "```\n",
    "Given groups=1, weight of size [32, 1, 3, 3], expected input[128, 3, 32, 32] to have 1 channels, but got 3 channels instead\n",
    "```\n",
    "\n",
    "This error is telling us that something is not right in the definition of our model. Copy the CNN class from above and make changes, so the training works."
   ]
  },
  {
   "cell_type": "code",
   "execution_count": 125,
   "metadata": {},
   "outputs": [],
   "source": [
    "#########################################################################\n",
    "# TODO: Adapt the definition from the CNN class above to work on CIFAR.\n",
    "# You can copy and run the following prompt for evaluation:\n",
    "# CNN()(torch.randn(1,3,32,32)).shape\n",
    "# It should print 'torch.Size([1, 10])'\n",
    "# Hint: You need to change 2 things. \n",
    "#########################################################################\n",
    "\n",
    "class CNN(nn.Module):\n",
    "    def __init__(self):\n",
    "        super(CNN, self).__init__()\n",
    "        self.model = nn.Sequential(nn.Conv2d(3, 32, 3, 1, 0), nn.ReLU(), \\\n",
    "                                   nn.Conv2d(32, 64, 3, 1, 0), nn.ReLU(), \\\n",
    "                                   nn.MaxPool2d(2, 2, 0), nn.Dropout(0.25), \\\n",
    "                                   nn.Flatten(), nn.Linear(12544, 128), nn.ReLU(), \\\n",
    "                                   nn.Dropout(0.5), nn.Linear(128,10))\n",
    "    def forward(self, x):\n",
    "        #x = torch.flatten(x, 1)\n",
    "        return self.model(x)"
   ]
  },
  {
   "cell_type": "markdown",
   "metadata": {},
   "source": [
    "Let's try again"
   ]
  },
  {
   "cell_type": "code",
   "execution_count": 126,
   "metadata": {
    "scrolled": true
   },
   "outputs": [
    {
     "name": "stdout",
     "output_type": "stream",
     "text": [
      "Train Epoch: 1 [0/50000 (0%)]\tLoss: 2.294232\n",
      "Train Epoch: 1 [12800/50000 (26%)]\tLoss: 2.143300\n",
      "Train Epoch: 1 [25600/50000 (51%)]\tLoss: 1.823748\n",
      "Train Epoch: 1 [38400/50000 (77%)]\tLoss: 2.040355\n",
      "\n",
      "Train set: Average loss: 1.7375, Accuracy: 12367/50000 (24.7%)\n",
      "\n",
      "\n",
      "Test set: Average loss: 1.7181, Accuracy: 3557/10000 (35.570%)\n",
      "\n",
      "Train Epoch: 2 [0/50000 (0%)]\tLoss: 1.827387\n",
      "Train Epoch: 2 [12800/50000 (26%)]\tLoss: 1.672708\n",
      "Train Epoch: 2 [25600/50000 (51%)]\tLoss: 1.731112\n",
      "Train Epoch: 2 [38400/50000 (77%)]\tLoss: 1.890798\n",
      "\n",
      "Train set: Average loss: 1.8961, Accuracy: 15147/50000 (30.3%)\n",
      "\n",
      "\n",
      "Test set: Average loss: 1.6343, Accuracy: 3890/10000 (38.900%)\n",
      "\n",
      "Train Epoch: 3 [0/50000 (0%)]\tLoss: 1.756756\n",
      "Train Epoch: 3 [12800/50000 (26%)]\tLoss: 1.795876\n",
      "Train Epoch: 3 [25600/50000 (51%)]\tLoss: 1.626709\n",
      "Train Epoch: 3 [38400/50000 (77%)]\tLoss: 1.769899\n",
      "\n",
      "Train set: Average loss: 1.8901, Accuracy: 15759/50000 (31.5%)\n",
      "\n",
      "\n",
      "Test set: Average loss: 1.5914, Accuracy: 3995/10000 (39.950%)\n",
      "\n",
      "Train Epoch: 4 [0/50000 (0%)]\tLoss: 1.696977\n",
      "Train Epoch: 4 [12800/50000 (26%)]\tLoss: 1.827770\n",
      "Train Epoch: 4 [25600/50000 (51%)]\tLoss: 1.910466\n",
      "Train Epoch: 4 [38400/50000 (77%)]\tLoss: 1.755182\n",
      "\n",
      "Train set: Average loss: 1.6409, Accuracy: 14695/50000 (29.4%)\n",
      "\n",
      "\n",
      "Test set: Average loss: 1.6048, Accuracy: 4039/10000 (40.390%)\n",
      "\n",
      "Train Epoch: 5 [0/50000 (0%)]\tLoss: 1.696670\n",
      "Train Epoch: 5 [12800/50000 (26%)]\tLoss: 1.793330\n",
      "Train Epoch: 5 [25600/50000 (51%)]\tLoss: 1.664290\n",
      "Train Epoch: 5 [38400/50000 (77%)]\tLoss: 1.661654\n",
      "\n",
      "Train set: Average loss: 1.8396, Accuracy: 17019/50000 (34.0%)\n",
      "\n",
      "\n",
      "Test set: Average loss: 1.5500, Accuracy: 4168/10000 (41.680%)\n",
      "\n",
      "Train Epoch: 6 [0/50000 (0%)]\tLoss: 1.688898\n",
      "Train Epoch: 6 [12800/50000 (26%)]\tLoss: 1.867286\n",
      "Train Epoch: 6 [25600/50000 (51%)]\tLoss: 1.692370\n",
      "Train Epoch: 6 [38400/50000 (77%)]\tLoss: 1.788188\n",
      "\n",
      "Train set: Average loss: 1.6342, Accuracy: 17677/50000 (35.4%)\n",
      "\n",
      "\n",
      "Test set: Average loss: 1.5039, Accuracy: 4436/10000 (44.360%)\n",
      "\n",
      "Train Epoch: 7 [0/50000 (0%)]\tLoss: 1.743664\n",
      "Train Epoch: 7 [12800/50000 (26%)]\tLoss: 1.867672\n",
      "Train Epoch: 7 [25600/50000 (51%)]\tLoss: 1.714563\n",
      "Train Epoch: 7 [38400/50000 (77%)]\tLoss: 1.829043\n",
      "\n",
      "Train set: Average loss: 1.6885, Accuracy: 18579/50000 (37.2%)\n",
      "\n",
      "\n",
      "Test set: Average loss: 1.4670, Accuracy: 4557/10000 (45.570%)\n",
      "\n",
      "Train Epoch: 8 [0/50000 (0%)]\tLoss: 1.635043\n",
      "Train Epoch: 8 [12800/50000 (26%)]\tLoss: 1.594607\n",
      "Train Epoch: 8 [25600/50000 (51%)]\tLoss: 1.684577\n",
      "Train Epoch: 8 [38400/50000 (77%)]\tLoss: 1.631626\n",
      "\n",
      "Train set: Average loss: 1.8391, Accuracy: 19399/50000 (38.8%)\n",
      "\n",
      "\n",
      "Test set: Average loss: 1.4966, Accuracy: 4500/10000 (45.000%)\n",
      "\n",
      "Train Epoch: 9 [0/50000 (0%)]\tLoss: 1.614256\n",
      "Train Epoch: 9 [12800/50000 (26%)]\tLoss: 1.752678\n",
      "Train Epoch: 9 [25600/50000 (51%)]\tLoss: 1.463290\n",
      "Train Epoch: 9 [38400/50000 (77%)]\tLoss: 1.557080\n",
      "\n",
      "Train set: Average loss: 1.5342, Accuracy: 19919/50000 (39.8%)\n",
      "\n",
      "\n",
      "Test set: Average loss: 1.4391, Accuracy: 4805/10000 (48.050%)\n",
      "\n",
      "Train Epoch: 10 [0/50000 (0%)]\tLoss: 1.536801\n",
      "Train Epoch: 10 [12800/50000 (26%)]\tLoss: 1.720009\n",
      "Train Epoch: 10 [25600/50000 (51%)]\tLoss: 1.563451\n",
      "Train Epoch: 10 [38400/50000 (77%)]\tLoss: 1.488475\n",
      "\n",
      "Train set: Average loss: 1.6688, Accuracy: 19150/50000 (38.3%)\n",
      "\n",
      "\n",
      "Test set: Average loss: 1.5220, Accuracy: 4393/10000 (43.930%)\n",
      "\n"
     ]
    }
   ],
   "source": [
    "cnn = CNN()\n",
    "optimizer = optim.SGD(cnn.parameters(), lr=0.1, momentum=0.9, weight_decay=5e-4)\n",
    "scheduler = torch.optim.lr_scheduler.CosineAnnealingLR(optimizer, T_max=200)\n",
    "\n",
    "epochs = 10\n",
    "for epoch in range(1, epochs + 1):\n",
    "    train(cnn, dl_train, optimizer, epoch, log_interval=100)\n",
    "    test(cnn, dl_test)    \n",
    "    scheduler.step()"
   ]
  },
  {
   "cell_type": "markdown",
   "metadata": {},
   "source": [
    "This should give 40 - 50 % - and if you are not already on Colab it will give you a stressed out laptop. The performance is a lot better than random, but we can definitely do better."
   ]
  },
  {
   "cell_type": "markdown",
   "metadata": {},
   "source": [
    "### Have fun with GPUs\n",
    "You can already call it a day until this point because we won't grade the rest of the excecise. You can have more fun with the rest :)\n"
   ]
  },
  {
   "cell_type": "markdown",
   "metadata": {},
   "source": [
    "\n",
    "If you didn't already, move to colab. To use a GPU, follow on the collaboratory menu tabs, \"Runtime\" => \"Change runtime type\" and set it to GPU. Then run the same training loop but now on GPU. \n",
    "\n",
    "It as easy as:"
   ]
  },
  {
   "cell_type": "code",
   "execution_count": 127,
   "metadata": {},
   "outputs": [
    {
     "ename": "RuntimeError",
     "evalue": "Found no NVIDIA driver on your system. Please check that you have an NVIDIA GPU and installed a driver from http://www.nvidia.com/Download/index.aspx",
     "output_type": "error",
     "traceback": [
      "\u001b[0;31m---------------------------------------------------------------------------\u001b[0m",
      "\u001b[0;31mRuntimeError\u001b[0m                              Traceback (most recent call last)",
      "Input \u001b[0;32mIn [127]\u001b[0m, in \u001b[0;36m<cell line: 7>\u001b[0;34m()\u001b[0m\n\u001b[1;32m      5\u001b[0m optimizer \u001b[38;5;241m=\u001b[39m optim\u001b[38;5;241m.\u001b[39mSGD(cnn\u001b[38;5;241m.\u001b[39mparameters(), lr\u001b[38;5;241m=\u001b[39m\u001b[38;5;241m0.1\u001b[39m, momentum\u001b[38;5;241m=\u001b[39m\u001b[38;5;241m0.9\u001b[39m, weight_decay\u001b[38;5;241m=\u001b[39m\u001b[38;5;241m5e-4\u001b[39m)\n\u001b[1;32m      6\u001b[0m scheduler \u001b[38;5;241m=\u001b[39m torch\u001b[38;5;241m.\u001b[39moptim\u001b[38;5;241m.\u001b[39mlr_scheduler\u001b[38;5;241m.\u001b[39mCosineAnnealingLR(optimizer, T_max\u001b[38;5;241m=\u001b[39m\u001b[38;5;241m200\u001b[39m)\n\u001b[0;32m----> 7\u001b[0m cnn \u001b[38;5;241m=\u001b[39m \u001b[43mcnn\u001b[49m\u001b[38;5;241;43m.\u001b[39;49m\u001b[43mto\u001b[49m\u001b[43m(\u001b[49m\u001b[43mdevice\u001b[49m\u001b[43m)\u001b[49m\n\u001b[1;32m      9\u001b[0m epochs \u001b[38;5;241m=\u001b[39m \u001b[38;5;241m10\u001b[39m\n\u001b[1;32m     10\u001b[0m \u001b[38;5;28;01mfor\u001b[39;00m epoch \u001b[38;5;129;01min\u001b[39;00m \u001b[38;5;28mrange\u001b[39m(\u001b[38;5;241m1\u001b[39m, epochs \u001b[38;5;241m+\u001b[39m \u001b[38;5;241m1\u001b[39m):\n",
      "File \u001b[0;32m~/anaconda3/lib/python3.9/site-packages/torch/nn/modules/module.py:927\u001b[0m, in \u001b[0;36mModule.to\u001b[0;34m(self, *args, **kwargs)\u001b[0m\n\u001b[1;32m    923\u001b[0m         \u001b[38;5;28;01mreturn\u001b[39;00m t\u001b[38;5;241m.\u001b[39mto(device, dtype \u001b[38;5;28;01mif\u001b[39;00m t\u001b[38;5;241m.\u001b[39mis_floating_point() \u001b[38;5;129;01mor\u001b[39;00m t\u001b[38;5;241m.\u001b[39mis_complex() \u001b[38;5;28;01melse\u001b[39;00m \u001b[38;5;28;01mNone\u001b[39;00m,\n\u001b[1;32m    924\u001b[0m                     non_blocking, memory_format\u001b[38;5;241m=\u001b[39mconvert_to_format)\n\u001b[1;32m    925\u001b[0m     \u001b[38;5;28;01mreturn\u001b[39;00m t\u001b[38;5;241m.\u001b[39mto(device, dtype \u001b[38;5;28;01mif\u001b[39;00m t\u001b[38;5;241m.\u001b[39mis_floating_point() \u001b[38;5;129;01mor\u001b[39;00m t\u001b[38;5;241m.\u001b[39mis_complex() \u001b[38;5;28;01melse\u001b[39;00m \u001b[38;5;28;01mNone\u001b[39;00m, non_blocking)\n\u001b[0;32m--> 927\u001b[0m \u001b[38;5;28;01mreturn\u001b[39;00m \u001b[38;5;28;43mself\u001b[39;49m\u001b[38;5;241;43m.\u001b[39;49m\u001b[43m_apply\u001b[49m\u001b[43m(\u001b[49m\u001b[43mconvert\u001b[49m\u001b[43m)\u001b[49m\n",
      "File \u001b[0;32m~/anaconda3/lib/python3.9/site-packages/torch/nn/modules/module.py:579\u001b[0m, in \u001b[0;36mModule._apply\u001b[0;34m(self, fn)\u001b[0m\n\u001b[1;32m    577\u001b[0m \u001b[38;5;28;01mdef\u001b[39;00m \u001b[38;5;21m_apply\u001b[39m(\u001b[38;5;28mself\u001b[39m, fn):\n\u001b[1;32m    578\u001b[0m     \u001b[38;5;28;01mfor\u001b[39;00m module \u001b[38;5;129;01min\u001b[39;00m \u001b[38;5;28mself\u001b[39m\u001b[38;5;241m.\u001b[39mchildren():\n\u001b[0;32m--> 579\u001b[0m         \u001b[43mmodule\u001b[49m\u001b[38;5;241;43m.\u001b[39;49m\u001b[43m_apply\u001b[49m\u001b[43m(\u001b[49m\u001b[43mfn\u001b[49m\u001b[43m)\u001b[49m\n\u001b[1;32m    581\u001b[0m     \u001b[38;5;28;01mdef\u001b[39;00m \u001b[38;5;21mcompute_should_use_set_data\u001b[39m(tensor, tensor_applied):\n\u001b[1;32m    582\u001b[0m         \u001b[38;5;28;01mif\u001b[39;00m torch\u001b[38;5;241m.\u001b[39m_has_compatible_shallow_copy_type(tensor, tensor_applied):\n\u001b[1;32m    583\u001b[0m             \u001b[38;5;66;03m# If the new tensor has compatible tensor type as the existing tensor,\u001b[39;00m\n\u001b[1;32m    584\u001b[0m             \u001b[38;5;66;03m# the current behavior is to change the tensor in-place using `.data =`,\u001b[39;00m\n\u001b[0;32m   (...)\u001b[0m\n\u001b[1;32m    589\u001b[0m             \u001b[38;5;66;03m# global flag to let the user control whether they want the future\u001b[39;00m\n\u001b[1;32m    590\u001b[0m             \u001b[38;5;66;03m# behavior of overwriting the existing tensor or not.\u001b[39;00m\n",
      "File \u001b[0;32m~/anaconda3/lib/python3.9/site-packages/torch/nn/modules/module.py:579\u001b[0m, in \u001b[0;36mModule._apply\u001b[0;34m(self, fn)\u001b[0m\n\u001b[1;32m    577\u001b[0m \u001b[38;5;28;01mdef\u001b[39;00m \u001b[38;5;21m_apply\u001b[39m(\u001b[38;5;28mself\u001b[39m, fn):\n\u001b[1;32m    578\u001b[0m     \u001b[38;5;28;01mfor\u001b[39;00m module \u001b[38;5;129;01min\u001b[39;00m \u001b[38;5;28mself\u001b[39m\u001b[38;5;241m.\u001b[39mchildren():\n\u001b[0;32m--> 579\u001b[0m         \u001b[43mmodule\u001b[49m\u001b[38;5;241;43m.\u001b[39;49m\u001b[43m_apply\u001b[49m\u001b[43m(\u001b[49m\u001b[43mfn\u001b[49m\u001b[43m)\u001b[49m\n\u001b[1;32m    581\u001b[0m     \u001b[38;5;28;01mdef\u001b[39;00m \u001b[38;5;21mcompute_should_use_set_data\u001b[39m(tensor, tensor_applied):\n\u001b[1;32m    582\u001b[0m         \u001b[38;5;28;01mif\u001b[39;00m torch\u001b[38;5;241m.\u001b[39m_has_compatible_shallow_copy_type(tensor, tensor_applied):\n\u001b[1;32m    583\u001b[0m             \u001b[38;5;66;03m# If the new tensor has compatible tensor type as the existing tensor,\u001b[39;00m\n\u001b[1;32m    584\u001b[0m             \u001b[38;5;66;03m# the current behavior is to change the tensor in-place using `.data =`,\u001b[39;00m\n\u001b[0;32m   (...)\u001b[0m\n\u001b[1;32m    589\u001b[0m             \u001b[38;5;66;03m# global flag to let the user control whether they want the future\u001b[39;00m\n\u001b[1;32m    590\u001b[0m             \u001b[38;5;66;03m# behavior of overwriting the existing tensor or not.\u001b[39;00m\n",
      "File \u001b[0;32m~/anaconda3/lib/python3.9/site-packages/torch/nn/modules/module.py:602\u001b[0m, in \u001b[0;36mModule._apply\u001b[0;34m(self, fn)\u001b[0m\n\u001b[1;32m    598\u001b[0m \u001b[38;5;66;03m# Tensors stored in modules are graph leaves, and we don't want to\u001b[39;00m\n\u001b[1;32m    599\u001b[0m \u001b[38;5;66;03m# track autograd history of `param_applied`, so we have to use\u001b[39;00m\n\u001b[1;32m    600\u001b[0m \u001b[38;5;66;03m# `with torch.no_grad():`\u001b[39;00m\n\u001b[1;32m    601\u001b[0m \u001b[38;5;28;01mwith\u001b[39;00m torch\u001b[38;5;241m.\u001b[39mno_grad():\n\u001b[0;32m--> 602\u001b[0m     param_applied \u001b[38;5;241m=\u001b[39m \u001b[43mfn\u001b[49m\u001b[43m(\u001b[49m\u001b[43mparam\u001b[49m\u001b[43m)\u001b[49m\n\u001b[1;32m    603\u001b[0m should_use_set_data \u001b[38;5;241m=\u001b[39m compute_should_use_set_data(param, param_applied)\n\u001b[1;32m    604\u001b[0m \u001b[38;5;28;01mif\u001b[39;00m should_use_set_data:\n",
      "File \u001b[0;32m~/anaconda3/lib/python3.9/site-packages/torch/nn/modules/module.py:925\u001b[0m, in \u001b[0;36mModule.to.<locals>.convert\u001b[0;34m(t)\u001b[0m\n\u001b[1;32m    922\u001b[0m \u001b[38;5;28;01mif\u001b[39;00m convert_to_format \u001b[38;5;129;01mis\u001b[39;00m \u001b[38;5;129;01mnot\u001b[39;00m \u001b[38;5;28;01mNone\u001b[39;00m \u001b[38;5;129;01mand\u001b[39;00m t\u001b[38;5;241m.\u001b[39mdim() \u001b[38;5;129;01min\u001b[39;00m (\u001b[38;5;241m4\u001b[39m, \u001b[38;5;241m5\u001b[39m):\n\u001b[1;32m    923\u001b[0m     \u001b[38;5;28;01mreturn\u001b[39;00m t\u001b[38;5;241m.\u001b[39mto(device, dtype \u001b[38;5;28;01mif\u001b[39;00m t\u001b[38;5;241m.\u001b[39mis_floating_point() \u001b[38;5;129;01mor\u001b[39;00m t\u001b[38;5;241m.\u001b[39mis_complex() \u001b[38;5;28;01melse\u001b[39;00m \u001b[38;5;28;01mNone\u001b[39;00m,\n\u001b[1;32m    924\u001b[0m                 non_blocking, memory_format\u001b[38;5;241m=\u001b[39mconvert_to_format)\n\u001b[0;32m--> 925\u001b[0m \u001b[38;5;28;01mreturn\u001b[39;00m \u001b[43mt\u001b[49m\u001b[38;5;241;43m.\u001b[39;49m\u001b[43mto\u001b[49m\u001b[43m(\u001b[49m\u001b[43mdevice\u001b[49m\u001b[43m,\u001b[49m\u001b[43m \u001b[49m\u001b[43mdtype\u001b[49m\u001b[43m \u001b[49m\u001b[38;5;28;43;01mif\u001b[39;49;00m\u001b[43m \u001b[49m\u001b[43mt\u001b[49m\u001b[38;5;241;43m.\u001b[39;49m\u001b[43mis_floating_point\u001b[49m\u001b[43m(\u001b[49m\u001b[43m)\u001b[49m\u001b[43m \u001b[49m\u001b[38;5;129;43;01mor\u001b[39;49;00m\u001b[43m \u001b[49m\u001b[43mt\u001b[49m\u001b[38;5;241;43m.\u001b[39;49m\u001b[43mis_complex\u001b[49m\u001b[43m(\u001b[49m\u001b[43m)\u001b[49m\u001b[43m \u001b[49m\u001b[38;5;28;43;01melse\u001b[39;49;00m\u001b[43m \u001b[49m\u001b[38;5;28;43;01mNone\u001b[39;49;00m\u001b[43m,\u001b[49m\u001b[43m \u001b[49m\u001b[43mnon_blocking\u001b[49m\u001b[43m)\u001b[49m\n",
      "File \u001b[0;32m~/anaconda3/lib/python3.9/site-packages/torch/cuda/__init__.py:217\u001b[0m, in \u001b[0;36m_lazy_init\u001b[0;34m()\u001b[0m\n\u001b[1;32m    213\u001b[0m     \u001b[38;5;28;01mraise\u001b[39;00m \u001b[38;5;167;01mAssertionError\u001b[39;00m(\n\u001b[1;32m    214\u001b[0m         \u001b[38;5;124m\"\u001b[39m\u001b[38;5;124mlibcudart functions unavailable. It looks like you have a broken build?\u001b[39m\u001b[38;5;124m\"\u001b[39m)\n\u001b[1;32m    215\u001b[0m \u001b[38;5;66;03m# This function throws if there's a driver initialization error, no GPUs\u001b[39;00m\n\u001b[1;32m    216\u001b[0m \u001b[38;5;66;03m# are found or any other error occurs\u001b[39;00m\n\u001b[0;32m--> 217\u001b[0m \u001b[43mtorch\u001b[49m\u001b[38;5;241;43m.\u001b[39;49m\u001b[43m_C\u001b[49m\u001b[38;5;241;43m.\u001b[39;49m\u001b[43m_cuda_init\u001b[49m\u001b[43m(\u001b[49m\u001b[43m)\u001b[49m\n\u001b[1;32m    218\u001b[0m \u001b[38;5;66;03m# Some of the queued calls may reentrantly call _lazy_init();\u001b[39;00m\n\u001b[1;32m    219\u001b[0m \u001b[38;5;66;03m# we need to just return without initializing in that case.\u001b[39;00m\n\u001b[1;32m    220\u001b[0m \u001b[38;5;66;03m# However, we must not let any *other* threads in!\u001b[39;00m\n\u001b[1;32m    221\u001b[0m _tls\u001b[38;5;241m.\u001b[39mis_initializing \u001b[38;5;241m=\u001b[39m \u001b[38;5;28;01mTrue\u001b[39;00m\n",
      "\u001b[0;31mRuntimeError\u001b[0m: Found no NVIDIA driver on your system. Please check that you have an NVIDIA GPU and installed a driver from http://www.nvidia.com/Download/index.aspx"
     ]
    }
   ],
   "source": [
    "device = 'cuda'\n",
    "if device == 'cuda': torch.backends.cudnn.benchmark = True # additional speed up\n",
    "\n",
    "cnn = CNN()\n",
    "optimizer = optim.SGD(cnn.parameters(), lr=0.1, momentum=0.9, weight_decay=5e-4)\n",
    "scheduler = torch.optim.lr_scheduler.CosineAnnealingLR(optimizer, T_max=200)\n",
    "cnn = cnn.to(device)\n",
    "\n",
    "epochs = 10\n",
    "for epoch in range(1, epochs + 1):\n",
    "    train(cnn, dl_train, optimizer, epoch, log_interval=100, device=device)\n",
    "    test(cnn, dl_test, device=device)    \n",
    "    scheduler.step()"
   ]
  },
  {
   "cell_type": "markdown",
   "metadata": {},
   "source": [
    "This should be way faster now. But the true advantage of the GPU is that we can use much bigger models now and still train them in a reasonable amount of time. PyTorch is again very handy. The torchvision library comes with varies state-of-the-art model architectures, some of which you have seen in the lecture."
   ]
  },
  {
   "cell_type": "code",
   "execution_count": null,
   "metadata": {},
   "outputs": [],
   "source": [
    "from torchvision.models import resnet18"
   ]
  },
  {
   "cell_type": "code",
   "execution_count": null,
   "metadata": {
    "scrolled": true
   },
   "outputs": [],
   "source": [
    "cnn = resnet18()\n",
    "print(cnn)"
   ]
  },
  {
   "cell_type": "markdown",
   "metadata": {},
   "source": [
    "Looks scary! But the only thing you need to change to make it work on CIFAR is the last layer.\n",
    "Currently the last layer is:\n",
    "```\n",
    "  (fc): Linear(in_features=512, out_features=1000, bias=True)\n",
    "```\n",
    "out_features is the number of classes. This models are developed for Imagenet, a dataset with 1000 classes. So this part of the model you need to adapt. Additionally, you need to add a log-softmax layer again, as we us negative log-likelihood as the training criterion. "
   ]
  },
  {
   "cell_type": "code",
   "execution_count": null,
   "metadata": {},
   "outputs": [],
   "source": [
    "#########################################################################\n",
    "# TODO: Adapt the Resnet to work on CIFAR\n",
    "#########################################################################\n"
   ]
  },
  {
   "cell_type": "code",
   "execution_count": null,
   "metadata": {},
   "outputs": [],
   "source": [
    "# This should print 'torch.Size([16, 10])'\n",
    "cnn(torch.randn(16,3,32,32)).shape"
   ]
  },
  {
   "cell_type": "code",
   "execution_count": null,
   "metadata": {},
   "outputs": [],
   "source": [
    "device = 'cuda'\n",
    "if device == 'cuda': torch.backends.cudnn.benchmark = True # this gives us additional speed up\n",
    "\n",
    "optimizer = optim.SGD(cnn.parameters(), lr=0.1, momentum=0.9, weight_decay=5e-4)\n",
    "scheduler = torch.optim.lr_scheduler.CosineAnnealingLR(optimizer, T_max=200)\n",
    "cnn = cnn.to(device)\n",
    "\n",
    "epochs = 50\n",
    "for epoch in range(1, epochs + 1):\n",
    "    train(cnn, dl_train, optimizer, epoch, log_interval=100, device=device)\n",
    "    test(cnn, dl_test, device=device)    \n",
    "    scheduler.step()"
   ]
  },
  {
   "cell_type": "markdown",
   "metadata": {},
   "source": [
    "This should get us well above 75%, the best we got was ~ 80%.\n",
    "\n",
    "Now, use different torchvision architectures, different optimizers (Adam is always a good choice), data augmentation techniques, and hyperparameter search to achieve a test accuracy of >90 %"
   ]
  },
  {
   "cell_type": "code",
   "execution_count": null,
   "metadata": {},
   "outputs": [],
   "source": []
  }
 ],
 "metadata": {
  "kernelspec": {
   "display_name": "Python 3 (ipykernel)",
   "language": "python",
   "name": "python3"
  },
  "language_info": {
   "codemirror_mode": {
    "name": "ipython",
    "version": 3
   },
   "file_extension": ".py",
   "mimetype": "text/x-python",
   "name": "python",
   "nbconvert_exporter": "python",
   "pygments_lexer": "ipython3",
   "version": "3.9.12"
  },
  "vscode": {
   "interpreter": {
    "hash": "d268b61a0efacafa8645774cb6d0204c9f01d7563ef03f7672146d044e8f345c"
   }
  }
 },
 "nbformat": 4,
 "nbformat_minor": 4
}
